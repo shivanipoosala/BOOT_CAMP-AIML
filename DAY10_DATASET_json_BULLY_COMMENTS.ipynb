{
  "nbformat": 4,
  "nbformat_minor": 0,
  "metadata": {
    "colab": {
      "name": "DAY10_DATASET_json_BULLY_COMMENTS.ipynb",
      "provenance": [],
      "mount_file_id": "164loYoafS5t9eYbBAvFf2PYABtYFomEV",
      "authorship_tag": "ABX9TyMOKr9On91sJk59tO6j3wOo",
      "include_colab_link": true
    },
    "kernelspec": {
      "name": "python3",
      "display_name": "Python 3"
    },
    "language_info": {
      "name": "python"
    }
  },
  "cells": [
    {
      "cell_type": "markdown",
      "metadata": {
        "id": "view-in-github",
        "colab_type": "text"
      },
      "source": [
        "<a href=\"https://colab.research.google.com/github/shivanipoosala/BOOT_CAMP-AIML/blob/main/DAY10_DATASET_json_BULLY_COMMENTS.ipynb\" target=\"_parent\"><img src=\"https://colab.research.google.com/assets/colab-badge.svg\" alt=\"Open In Colab\"/></a>"
      ]
    },
    {
      "cell_type": "code",
      "source": [
        "from google.colab import drive\n",
        "drive.mount('/content/drive')"
      ],
      "metadata": {
        "colab": {
          "base_uri": "https://localhost:8080/"
        },
        "id": "1KnbBS_a4P3q",
        "outputId": "398ea4c7-e5c8-4eb7-f2b2-a46259173d64"
      },
      "execution_count": 119,
      "outputs": [
        {
          "output_type": "stream",
          "name": "stdout",
          "text": [
            "Drive already mounted at /content/drive; to attempt to forcibly remount, call drive.mount(\"/content/drive\", force_remount=True).\n"
          ]
        }
      ]
    },
    {
      "cell_type": "code",
      "source": [
        "import pandas as pd\n",
        "import numpy as np\n",
        "df=pd.read_json('/content/drive/MyDrive/dataset.json',lines=True)"
      ],
      "metadata": {
        "id": "0VIXbagK4bK8"
      },
      "execution_count": 120,
      "outputs": []
    },
    {
      "cell_type": "code",
      "source": [
        "df.head()"
      ],
      "metadata": {
        "colab": {
          "base_uri": "https://localhost:8080/",
          "height": 206
        },
        "id": "k7fwe8q04x6c",
        "outputId": "dd9b38c2-c7b8-4279-9fc4-64277ca08761"
      },
      "execution_count": 121,
      "outputs": [
        {
          "output_type": "execute_result",
          "data": {
            "text/plain": [
              "                                             content  \\\n",
              "0                             Get fucking real dude.   \n",
              "1   She is as dirty as they come  and that crook ...   \n",
              "2   why did you fuck it up. I could do it all day...   \n",
              "3   Dude they dont finish enclosing the fucking s...   \n",
              "4   WTF are you talking about Men? No men thats n...   \n",
              "\n",
              "                      annotation  extras  \n",
              "0  {'notes': '', 'label': ['1']}     NaN  \n",
              "1  {'notes': '', 'label': ['1']}     NaN  \n",
              "2  {'notes': '', 'label': ['1']}     NaN  \n",
              "3  {'notes': '', 'label': ['1']}     NaN  \n",
              "4  {'notes': '', 'label': ['1']}     NaN  "
            ],
            "text/html": [
              "\n",
              "  <div id=\"df-84a89c03-0c9a-469c-88db-be4a8ade8091\">\n",
              "    <div class=\"colab-df-container\">\n",
              "      <div>\n",
              "<style scoped>\n",
              "    .dataframe tbody tr th:only-of-type {\n",
              "        vertical-align: middle;\n",
              "    }\n",
              "\n",
              "    .dataframe tbody tr th {\n",
              "        vertical-align: top;\n",
              "    }\n",
              "\n",
              "    .dataframe thead th {\n",
              "        text-align: right;\n",
              "    }\n",
              "</style>\n",
              "<table border=\"1\" class=\"dataframe\">\n",
              "  <thead>\n",
              "    <tr style=\"text-align: right;\">\n",
              "      <th></th>\n",
              "      <th>content</th>\n",
              "      <th>annotation</th>\n",
              "      <th>extras</th>\n",
              "    </tr>\n",
              "  </thead>\n",
              "  <tbody>\n",
              "    <tr>\n",
              "      <th>0</th>\n",
              "      <td>Get fucking real dude.</td>\n",
              "      <td>{'notes': '', 'label': ['1']}</td>\n",
              "      <td>NaN</td>\n",
              "    </tr>\n",
              "    <tr>\n",
              "      <th>1</th>\n",
              "      <td>She is as dirty as they come  and that crook ...</td>\n",
              "      <td>{'notes': '', 'label': ['1']}</td>\n",
              "      <td>NaN</td>\n",
              "    </tr>\n",
              "    <tr>\n",
              "      <th>2</th>\n",
              "      <td>why did you fuck it up. I could do it all day...</td>\n",
              "      <td>{'notes': '', 'label': ['1']}</td>\n",
              "      <td>NaN</td>\n",
              "    </tr>\n",
              "    <tr>\n",
              "      <th>3</th>\n",
              "      <td>Dude they dont finish enclosing the fucking s...</td>\n",
              "      <td>{'notes': '', 'label': ['1']}</td>\n",
              "      <td>NaN</td>\n",
              "    </tr>\n",
              "    <tr>\n",
              "      <th>4</th>\n",
              "      <td>WTF are you talking about Men? No men thats n...</td>\n",
              "      <td>{'notes': '', 'label': ['1']}</td>\n",
              "      <td>NaN</td>\n",
              "    </tr>\n",
              "  </tbody>\n",
              "</table>\n",
              "</div>\n",
              "      <button class=\"colab-df-convert\" onclick=\"convertToInteractive('df-84a89c03-0c9a-469c-88db-be4a8ade8091')\"\n",
              "              title=\"Convert this dataframe to an interactive table.\"\n",
              "              style=\"display:none;\">\n",
              "        \n",
              "  <svg xmlns=\"http://www.w3.org/2000/svg\" height=\"24px\"viewBox=\"0 0 24 24\"\n",
              "       width=\"24px\">\n",
              "    <path d=\"M0 0h24v24H0V0z\" fill=\"none\"/>\n",
              "    <path d=\"M18.56 5.44l.94 2.06.94-2.06 2.06-.94-2.06-.94-.94-2.06-.94 2.06-2.06.94zm-11 1L8.5 8.5l.94-2.06 2.06-.94-2.06-.94L8.5 2.5l-.94 2.06-2.06.94zm10 10l.94 2.06.94-2.06 2.06-.94-2.06-.94-.94-2.06-.94 2.06-2.06.94z\"/><path d=\"M17.41 7.96l-1.37-1.37c-.4-.4-.92-.59-1.43-.59-.52 0-1.04.2-1.43.59L10.3 9.45l-7.72 7.72c-.78.78-.78 2.05 0 2.83L4 21.41c.39.39.9.59 1.41.59.51 0 1.02-.2 1.41-.59l7.78-7.78 2.81-2.81c.8-.78.8-2.07 0-2.86zM5.41 20L4 18.59l7.72-7.72 1.47 1.35L5.41 20z\"/>\n",
              "  </svg>\n",
              "      </button>\n",
              "      \n",
              "  <style>\n",
              "    .colab-df-container {\n",
              "      display:flex;\n",
              "      flex-wrap:wrap;\n",
              "      gap: 12px;\n",
              "    }\n",
              "\n",
              "    .colab-df-convert {\n",
              "      background-color: #E8F0FE;\n",
              "      border: none;\n",
              "      border-radius: 50%;\n",
              "      cursor: pointer;\n",
              "      display: none;\n",
              "      fill: #1967D2;\n",
              "      height: 32px;\n",
              "      padding: 0 0 0 0;\n",
              "      width: 32px;\n",
              "    }\n",
              "\n",
              "    .colab-df-convert:hover {\n",
              "      background-color: #E2EBFA;\n",
              "      box-shadow: 0px 1px 2px rgba(60, 64, 67, 0.3), 0px 1px 3px 1px rgba(60, 64, 67, 0.15);\n",
              "      fill: #174EA6;\n",
              "    }\n",
              "\n",
              "    [theme=dark] .colab-df-convert {\n",
              "      background-color: #3B4455;\n",
              "      fill: #D2E3FC;\n",
              "    }\n",
              "\n",
              "    [theme=dark] .colab-df-convert:hover {\n",
              "      background-color: #434B5C;\n",
              "      box-shadow: 0px 1px 3px 1px rgba(0, 0, 0, 0.15);\n",
              "      filter: drop-shadow(0px 1px 2px rgba(0, 0, 0, 0.3));\n",
              "      fill: #FFFFFF;\n",
              "    }\n",
              "  </style>\n",
              "\n",
              "      <script>\n",
              "        const buttonEl =\n",
              "          document.querySelector('#df-84a89c03-0c9a-469c-88db-be4a8ade8091 button.colab-df-convert');\n",
              "        buttonEl.style.display =\n",
              "          google.colab.kernel.accessAllowed ? 'block' : 'none';\n",
              "\n",
              "        async function convertToInteractive(key) {\n",
              "          const element = document.querySelector('#df-84a89c03-0c9a-469c-88db-be4a8ade8091');\n",
              "          const dataTable =\n",
              "            await google.colab.kernel.invokeFunction('convertToInteractive',\n",
              "                                                     [key], {});\n",
              "          if (!dataTable) return;\n",
              "\n",
              "          const docLinkHtml = 'Like what you see? Visit the ' +\n",
              "            '<a target=\"_blank\" href=https://colab.research.google.com/notebooks/data_table.ipynb>data table notebook</a>'\n",
              "            + ' to learn more about interactive tables.';\n",
              "          element.innerHTML = '';\n",
              "          dataTable['output_type'] = 'display_data';\n",
              "          await google.colab.output.renderOutput(dataTable, element);\n",
              "          const docLink = document.createElement('div');\n",
              "          docLink.innerHTML = docLinkHtml;\n",
              "          element.appendChild(docLink);\n",
              "        }\n",
              "      </script>\n",
              "    </div>\n",
              "  </div>\n",
              "  "
            ]
          },
          "metadata": {},
          "execution_count": 121
        }
      ]
    },
    {
      "cell_type": "code",
      "source": [
        "df[\"label\"]=df.annotation.apply(lambda x:x.get('label'))\n",
        "df[\"label\"]=df.label.apply(lambda x:x[0])"
      ],
      "metadata": {
        "id": "3s9KyC2w40DR"
      },
      "execution_count": 122,
      "outputs": []
    },
    {
      "cell_type": "code",
      "source": [
        "df.head()"
      ],
      "metadata": {
        "colab": {
          "base_uri": "https://localhost:8080/",
          "height": 206
        },
        "id": "YT4CFbii5K94",
        "outputId": "319ae895-024d-4144-a48a-371509b3c59d"
      },
      "execution_count": 123,
      "outputs": [
        {
          "output_type": "execute_result",
          "data": {
            "text/plain": [
              "                                             content  \\\n",
              "0                             Get fucking real dude.   \n",
              "1   She is as dirty as they come  and that crook ...   \n",
              "2   why did you fuck it up. I could do it all day...   \n",
              "3   Dude they dont finish enclosing the fucking s...   \n",
              "4   WTF are you talking about Men? No men thats n...   \n",
              "\n",
              "                      annotation  extras label  \n",
              "0  {'notes': '', 'label': ['1']}     NaN     1  \n",
              "1  {'notes': '', 'label': ['1']}     NaN     1  \n",
              "2  {'notes': '', 'label': ['1']}     NaN     1  \n",
              "3  {'notes': '', 'label': ['1']}     NaN     1  \n",
              "4  {'notes': '', 'label': ['1']}     NaN     1  "
            ],
            "text/html": [
              "\n",
              "  <div id=\"df-a586c270-bc4e-4536-977d-8a28b7a80018\">\n",
              "    <div class=\"colab-df-container\">\n",
              "      <div>\n",
              "<style scoped>\n",
              "    .dataframe tbody tr th:only-of-type {\n",
              "        vertical-align: middle;\n",
              "    }\n",
              "\n",
              "    .dataframe tbody tr th {\n",
              "        vertical-align: top;\n",
              "    }\n",
              "\n",
              "    .dataframe thead th {\n",
              "        text-align: right;\n",
              "    }\n",
              "</style>\n",
              "<table border=\"1\" class=\"dataframe\">\n",
              "  <thead>\n",
              "    <tr style=\"text-align: right;\">\n",
              "      <th></th>\n",
              "      <th>content</th>\n",
              "      <th>annotation</th>\n",
              "      <th>extras</th>\n",
              "      <th>label</th>\n",
              "    </tr>\n",
              "  </thead>\n",
              "  <tbody>\n",
              "    <tr>\n",
              "      <th>0</th>\n",
              "      <td>Get fucking real dude.</td>\n",
              "      <td>{'notes': '', 'label': ['1']}</td>\n",
              "      <td>NaN</td>\n",
              "      <td>1</td>\n",
              "    </tr>\n",
              "    <tr>\n",
              "      <th>1</th>\n",
              "      <td>She is as dirty as they come  and that crook ...</td>\n",
              "      <td>{'notes': '', 'label': ['1']}</td>\n",
              "      <td>NaN</td>\n",
              "      <td>1</td>\n",
              "    </tr>\n",
              "    <tr>\n",
              "      <th>2</th>\n",
              "      <td>why did you fuck it up. I could do it all day...</td>\n",
              "      <td>{'notes': '', 'label': ['1']}</td>\n",
              "      <td>NaN</td>\n",
              "      <td>1</td>\n",
              "    </tr>\n",
              "    <tr>\n",
              "      <th>3</th>\n",
              "      <td>Dude they dont finish enclosing the fucking s...</td>\n",
              "      <td>{'notes': '', 'label': ['1']}</td>\n",
              "      <td>NaN</td>\n",
              "      <td>1</td>\n",
              "    </tr>\n",
              "    <tr>\n",
              "      <th>4</th>\n",
              "      <td>WTF are you talking about Men? No men thats n...</td>\n",
              "      <td>{'notes': '', 'label': ['1']}</td>\n",
              "      <td>NaN</td>\n",
              "      <td>1</td>\n",
              "    </tr>\n",
              "  </tbody>\n",
              "</table>\n",
              "</div>\n",
              "      <button class=\"colab-df-convert\" onclick=\"convertToInteractive('df-a586c270-bc4e-4536-977d-8a28b7a80018')\"\n",
              "              title=\"Convert this dataframe to an interactive table.\"\n",
              "              style=\"display:none;\">\n",
              "        \n",
              "  <svg xmlns=\"http://www.w3.org/2000/svg\" height=\"24px\"viewBox=\"0 0 24 24\"\n",
              "       width=\"24px\">\n",
              "    <path d=\"M0 0h24v24H0V0z\" fill=\"none\"/>\n",
              "    <path d=\"M18.56 5.44l.94 2.06.94-2.06 2.06-.94-2.06-.94-.94-2.06-.94 2.06-2.06.94zm-11 1L8.5 8.5l.94-2.06 2.06-.94-2.06-.94L8.5 2.5l-.94 2.06-2.06.94zm10 10l.94 2.06.94-2.06 2.06-.94-2.06-.94-.94-2.06-.94 2.06-2.06.94z\"/><path d=\"M17.41 7.96l-1.37-1.37c-.4-.4-.92-.59-1.43-.59-.52 0-1.04.2-1.43.59L10.3 9.45l-7.72 7.72c-.78.78-.78 2.05 0 2.83L4 21.41c.39.39.9.59 1.41.59.51 0 1.02-.2 1.41-.59l7.78-7.78 2.81-2.81c.8-.78.8-2.07 0-2.86zM5.41 20L4 18.59l7.72-7.72 1.47 1.35L5.41 20z\"/>\n",
              "  </svg>\n",
              "      </button>\n",
              "      \n",
              "  <style>\n",
              "    .colab-df-container {\n",
              "      display:flex;\n",
              "      flex-wrap:wrap;\n",
              "      gap: 12px;\n",
              "    }\n",
              "\n",
              "    .colab-df-convert {\n",
              "      background-color: #E8F0FE;\n",
              "      border: none;\n",
              "      border-radius: 50%;\n",
              "      cursor: pointer;\n",
              "      display: none;\n",
              "      fill: #1967D2;\n",
              "      height: 32px;\n",
              "      padding: 0 0 0 0;\n",
              "      width: 32px;\n",
              "    }\n",
              "\n",
              "    .colab-df-convert:hover {\n",
              "      background-color: #E2EBFA;\n",
              "      box-shadow: 0px 1px 2px rgba(60, 64, 67, 0.3), 0px 1px 3px 1px rgba(60, 64, 67, 0.15);\n",
              "      fill: #174EA6;\n",
              "    }\n",
              "\n",
              "    [theme=dark] .colab-df-convert {\n",
              "      background-color: #3B4455;\n",
              "      fill: #D2E3FC;\n",
              "    }\n",
              "\n",
              "    [theme=dark] .colab-df-convert:hover {\n",
              "      background-color: #434B5C;\n",
              "      box-shadow: 0px 1px 3px 1px rgba(0, 0, 0, 0.15);\n",
              "      filter: drop-shadow(0px 1px 2px rgba(0, 0, 0, 0.3));\n",
              "      fill: #FFFFFF;\n",
              "    }\n",
              "  </style>\n",
              "\n",
              "      <script>\n",
              "        const buttonEl =\n",
              "          document.querySelector('#df-a586c270-bc4e-4536-977d-8a28b7a80018 button.colab-df-convert');\n",
              "        buttonEl.style.display =\n",
              "          google.colab.kernel.accessAllowed ? 'block' : 'none';\n",
              "\n",
              "        async function convertToInteractive(key) {\n",
              "          const element = document.querySelector('#df-a586c270-bc4e-4536-977d-8a28b7a80018');\n",
              "          const dataTable =\n",
              "            await google.colab.kernel.invokeFunction('convertToInteractive',\n",
              "                                                     [key], {});\n",
              "          if (!dataTable) return;\n",
              "\n",
              "          const docLinkHtml = 'Like what you see? Visit the ' +\n",
              "            '<a target=\"_blank\" href=https://colab.research.google.com/notebooks/data_table.ipynb>data table notebook</a>'\n",
              "            + ' to learn more about interactive tables.';\n",
              "          element.innerHTML = '';\n",
              "          dataTable['output_type'] = 'display_data';\n",
              "          await google.colab.output.renderOutput(dataTable, element);\n",
              "          const docLink = document.createElement('div');\n",
              "          docLink.innerHTML = docLinkHtml;\n",
              "          element.appendChild(docLink);\n",
              "        }\n",
              "      </script>\n",
              "    </div>\n",
              "  </div>\n",
              "  "
            ]
          },
          "metadata": {},
          "execution_count": 123
        }
      ]
    },
    {
      "cell_type": "code",
      "source": [
        "df = df.drop(['annotation','extras'],axis=1)\n",
        "df"
      ],
      "metadata": {
        "colab": {
          "base_uri": "https://localhost:8080/",
          "height": 424
        },
        "id": "05LJS5647iD-",
        "outputId": "800f892f-a328-4eaf-b4d2-9919c97be33f"
      },
      "execution_count": 124,
      "outputs": [
        {
          "output_type": "execute_result",
          "data": {
            "text/plain": [
              "                                                 content label\n",
              "0                                 Get fucking real dude.     1\n",
              "1       She is as dirty as they come  and that crook ...     1\n",
              "2       why did you fuck it up. I could do it all day...     1\n",
              "3       Dude they dont finish enclosing the fucking s...     1\n",
              "4       WTF are you talking about Men? No men thats n...     1\n",
              "...                                                  ...   ...\n",
              "19996    I dont. But what is complaining about it goi...     0\n",
              "19997   Bahah  yeah i&;m totally just gonna&; get pis...     0\n",
              "19998       hahahahaha >:) im evil mwahahahahahahahahaha     0\n",
              "19999            What&;s something unique about Ohio? :)     0\n",
              "20000              Who is the biggest gossiper you know?     0\n",
              "\n",
              "[20001 rows x 2 columns]"
            ],
            "text/html": [
              "\n",
              "  <div id=\"df-270df3bc-516d-461c-b42b-c286522993be\">\n",
              "    <div class=\"colab-df-container\">\n",
              "      <div>\n",
              "<style scoped>\n",
              "    .dataframe tbody tr th:only-of-type {\n",
              "        vertical-align: middle;\n",
              "    }\n",
              "\n",
              "    .dataframe tbody tr th {\n",
              "        vertical-align: top;\n",
              "    }\n",
              "\n",
              "    .dataframe thead th {\n",
              "        text-align: right;\n",
              "    }\n",
              "</style>\n",
              "<table border=\"1\" class=\"dataframe\">\n",
              "  <thead>\n",
              "    <tr style=\"text-align: right;\">\n",
              "      <th></th>\n",
              "      <th>content</th>\n",
              "      <th>label</th>\n",
              "    </tr>\n",
              "  </thead>\n",
              "  <tbody>\n",
              "    <tr>\n",
              "      <th>0</th>\n",
              "      <td>Get fucking real dude.</td>\n",
              "      <td>1</td>\n",
              "    </tr>\n",
              "    <tr>\n",
              "      <th>1</th>\n",
              "      <td>She is as dirty as they come  and that crook ...</td>\n",
              "      <td>1</td>\n",
              "    </tr>\n",
              "    <tr>\n",
              "      <th>2</th>\n",
              "      <td>why did you fuck it up. I could do it all day...</td>\n",
              "      <td>1</td>\n",
              "    </tr>\n",
              "    <tr>\n",
              "      <th>3</th>\n",
              "      <td>Dude they dont finish enclosing the fucking s...</td>\n",
              "      <td>1</td>\n",
              "    </tr>\n",
              "    <tr>\n",
              "      <th>4</th>\n",
              "      <td>WTF are you talking about Men? No men thats n...</td>\n",
              "      <td>1</td>\n",
              "    </tr>\n",
              "    <tr>\n",
              "      <th>...</th>\n",
              "      <td>...</td>\n",
              "      <td>...</td>\n",
              "    </tr>\n",
              "    <tr>\n",
              "      <th>19996</th>\n",
              "      <td>I dont. But what is complaining about it goi...</td>\n",
              "      <td>0</td>\n",
              "    </tr>\n",
              "    <tr>\n",
              "      <th>19997</th>\n",
              "      <td>Bahah  yeah i&amp;;m totally just gonna&amp;; get pis...</td>\n",
              "      <td>0</td>\n",
              "    </tr>\n",
              "    <tr>\n",
              "      <th>19998</th>\n",
              "      <td>hahahahaha &gt;:) im evil mwahahahahahahahahaha</td>\n",
              "      <td>0</td>\n",
              "    </tr>\n",
              "    <tr>\n",
              "      <th>19999</th>\n",
              "      <td>What&amp;;s something unique about Ohio? :)</td>\n",
              "      <td>0</td>\n",
              "    </tr>\n",
              "    <tr>\n",
              "      <th>20000</th>\n",
              "      <td>Who is the biggest gossiper you know?</td>\n",
              "      <td>0</td>\n",
              "    </tr>\n",
              "  </tbody>\n",
              "</table>\n",
              "<p>20001 rows × 2 columns</p>\n",
              "</div>\n",
              "      <button class=\"colab-df-convert\" onclick=\"convertToInteractive('df-270df3bc-516d-461c-b42b-c286522993be')\"\n",
              "              title=\"Convert this dataframe to an interactive table.\"\n",
              "              style=\"display:none;\">\n",
              "        \n",
              "  <svg xmlns=\"http://www.w3.org/2000/svg\" height=\"24px\"viewBox=\"0 0 24 24\"\n",
              "       width=\"24px\">\n",
              "    <path d=\"M0 0h24v24H0V0z\" fill=\"none\"/>\n",
              "    <path d=\"M18.56 5.44l.94 2.06.94-2.06 2.06-.94-2.06-.94-.94-2.06-.94 2.06-2.06.94zm-11 1L8.5 8.5l.94-2.06 2.06-.94-2.06-.94L8.5 2.5l-.94 2.06-2.06.94zm10 10l.94 2.06.94-2.06 2.06-.94-2.06-.94-.94-2.06-.94 2.06-2.06.94z\"/><path d=\"M17.41 7.96l-1.37-1.37c-.4-.4-.92-.59-1.43-.59-.52 0-1.04.2-1.43.59L10.3 9.45l-7.72 7.72c-.78.78-.78 2.05 0 2.83L4 21.41c.39.39.9.59 1.41.59.51 0 1.02-.2 1.41-.59l7.78-7.78 2.81-2.81c.8-.78.8-2.07 0-2.86zM5.41 20L4 18.59l7.72-7.72 1.47 1.35L5.41 20z\"/>\n",
              "  </svg>\n",
              "      </button>\n",
              "      \n",
              "  <style>\n",
              "    .colab-df-container {\n",
              "      display:flex;\n",
              "      flex-wrap:wrap;\n",
              "      gap: 12px;\n",
              "    }\n",
              "\n",
              "    .colab-df-convert {\n",
              "      background-color: #E8F0FE;\n",
              "      border: none;\n",
              "      border-radius: 50%;\n",
              "      cursor: pointer;\n",
              "      display: none;\n",
              "      fill: #1967D2;\n",
              "      height: 32px;\n",
              "      padding: 0 0 0 0;\n",
              "      width: 32px;\n",
              "    }\n",
              "\n",
              "    .colab-df-convert:hover {\n",
              "      background-color: #E2EBFA;\n",
              "      box-shadow: 0px 1px 2px rgba(60, 64, 67, 0.3), 0px 1px 3px 1px rgba(60, 64, 67, 0.15);\n",
              "      fill: #174EA6;\n",
              "    }\n",
              "\n",
              "    [theme=dark] .colab-df-convert {\n",
              "      background-color: #3B4455;\n",
              "      fill: #D2E3FC;\n",
              "    }\n",
              "\n",
              "    [theme=dark] .colab-df-convert:hover {\n",
              "      background-color: #434B5C;\n",
              "      box-shadow: 0px 1px 3px 1px rgba(0, 0, 0, 0.15);\n",
              "      filter: drop-shadow(0px 1px 2px rgba(0, 0, 0, 0.3));\n",
              "      fill: #FFFFFF;\n",
              "    }\n",
              "  </style>\n",
              "\n",
              "      <script>\n",
              "        const buttonEl =\n",
              "          document.querySelector('#df-270df3bc-516d-461c-b42b-c286522993be button.colab-df-convert');\n",
              "        buttonEl.style.display =\n",
              "          google.colab.kernel.accessAllowed ? 'block' : 'none';\n",
              "\n",
              "        async function convertToInteractive(key) {\n",
              "          const element = document.querySelector('#df-270df3bc-516d-461c-b42b-c286522993be');\n",
              "          const dataTable =\n",
              "            await google.colab.kernel.invokeFunction('convertToInteractive',\n",
              "                                                     [key], {});\n",
              "          if (!dataTable) return;\n",
              "\n",
              "          const docLinkHtml = 'Like what you see? Visit the ' +\n",
              "            '<a target=\"_blank\" href=https://colab.research.google.com/notebooks/data_table.ipynb>data table notebook</a>'\n",
              "            + ' to learn more about interactive tables.';\n",
              "          element.innerHTML = '';\n",
              "          dataTable['output_type'] = 'display_data';\n",
              "          await google.colab.output.renderOutput(dataTable, element);\n",
              "          const docLink = document.createElement('div');\n",
              "          docLink.innerHTML = docLinkHtml;\n",
              "          element.appendChild(docLink);\n",
              "        }\n",
              "      </script>\n",
              "    </div>\n",
              "  </div>\n",
              "  "
            ]
          },
          "metadata": {},
          "execution_count": 124
        }
      ]
    },
    {
      "cell_type": "code",
      "source": [
        "import matplotlib.pyplot as plt\n",
        "import matplotlib as mpl\n",
        "mpl.rcParams['patch.force_edgecolor'] = True\n",
        "import seaborn as sns\n",
        "def get_heatmap(df):\n",
        "    #This function gives heatmap of all NaN values\n",
        "    plt.figure(figsize=(6,4))\n",
        "    sns.heatmap(df.isnull(), yticklabels=False, cbar=False, cmap='viridis')\n",
        "    plt.tight_layout()\n",
        "    return plt.show()\n",
        "\n",
        "get_heatmap(df)"
      ],
      "metadata": {
        "colab": {
          "base_uri": "https://localhost:8080/",
          "height": 297
        },
        "id": "bA7jz01S8Euj",
        "outputId": "be9fcde4-26bc-4786-cf20-b5736d2dceeb"
      },
      "execution_count": 125,
      "outputs": [
        {
          "output_type": "display_data",
          "data": {
            "text/plain": [
              "<Figure size 432x288 with 1 Axes>"
            ],
            "image/png": "[encoded data removed]"
          },
          "metadata": {
            "needs_background": "light"
          }
        }
      ]
    },
    {
      "cell_type": "code",
      "source": [
        "#loading the data\n",
        "x=df.iloc[:,:-1].values\n",
        "x"
      ],
      "metadata": {
        "colab": {
          "base_uri": "https://localhost:8080/"
        },
        "id": "i4AtgGLc8aGa",
        "outputId": "c8354634-a23b-4807-9b7e-fe638a8efd0d"
      },
      "execution_count": 126,
      "outputs": [
        {
          "output_type": "execute_result",
          "data": {
            "text/plain": [
              "array([[' Get fucking real dude.'],\n",
              "       [\" She is as dirty as they come  and that crook Rengel  the Dems are so fucking corrupt it's a joke. Make Republicans look like  ...\"],\n",
              "       [\" why did you fuck it up. I could do it all day too. Let's do it when you have an hour. Ping me later to sched writing a book here.\"],\n",
              "       ...,\n",
              "       ['  hahahahaha >:) im evil mwahahahahahahahahaha'],\n",
              "       [' What&;s something unique about Ohio? :)'],\n",
              "       [' Who is the biggest gossiper you know?']], dtype=object)"
            ]
          },
          "metadata": {},
          "execution_count": 126
        }
      ]
    },
    {
      "cell_type": "code",
      "source": [
        "y=df.iloc[:,-1:].values\n",
        "y"
      ],
      "metadata": {
        "colab": {
          "base_uri": "https://localhost:8080/"
        },
        "id": "VEsiW2l08sot",
        "outputId": "ee403443-ef35-4f7f-80cd-f1c7371545bf"
      },
      "execution_count": 127,
      "outputs": [
        {
          "output_type": "execute_result",
          "data": {
            "text/plain": [
              "array([['1'],\n",
              "       ['1'],\n",
              "       ['1'],\n",
              "       ...,\n",
              "       ['0'],\n",
              "       ['0'],\n",
              "       ['0']], dtype=object)"
            ]
          },
          "metadata": {},
          "execution_count": 127
        }
      ]
    },
    {
      "cell_type": "code",
      "source": [
        "#split the data into training data and testing\n",
        "from sklearn.model_selection import train_test_split\n",
        "x_train,x_test,y_train,y_test=train_test_split(x,y,test_size=0.2,random_state=0,shuffle=True) "
      ],
      "metadata": {
        "id": "L7rRT0gM877D"
      },
      "execution_count": 128,
      "outputs": []
    },
    {
      "cell_type": "code",
      "source": [
        "x_train.shape"
      ],
      "metadata": {
        "colab": {
          "base_uri": "https://localhost:8080/"
        },
        "id": "EqNqHfN180_L",
        "outputId": "271e7a98-e23c-4f5d-91f8-45732f01cef9"
      },
      "execution_count": 129,
      "outputs": [
        {
          "output_type": "execute_result",
          "data": {
            "text/plain": [
              "(16000, 1)"
            ]
          },
          "metadata": {},
          "execution_count": 129
        }
      ]
    },
    {
      "cell_type": "code",
      "source": [
        "from sklearn.feature_extraction.text import CountVectorizer\n",
        "count_vector=CountVectorizer()\n",
        "#Transform the training data into freq vectors and return matrix\n",
        "training_data=count_vector.fit_transform(x_train.flatten())\n",
        "\n",
        "#Transform the testing data into freq vectors and return matrix\n",
        "testing_data=count_vector.transform(x_test.flatten())\n"
      ],
      "metadata": {
        "id": "4RsTAMDB9cQi"
      },
      "execution_count": 130,
      "outputs": []
    },
    {
      "cell_type": "code",
      "source": [
        "from sklearn.naive_bayes import MultinomialNB\n",
        "model=MultinomialNB()\n",
        "model.fit(training_data,y_train)"
      ],
      "metadata": {
        "colab": {
          "base_uri": "https://localhost:8080/"
        },
        "id": "Q4Zif75R9435",
        "outputId": "5ce5b360-1b5d-4cbd-c8eb-b51673772cd3"
      },
      "execution_count": 131,
      "outputs": [
        {
          "output_type": "stream",
          "name": "stderr",
          "text": [
            "/usr/local/lib/python3.7/dist-packages/sklearn/utils/validation.py:993: DataConversionWarning: A column-vector y was passed when a 1d array was expected. Please change the shape of y to (n_samples, ), for example using ravel().\n",
            "  y = column_or_1d(y, warn=True)\n"
          ]
        },
        {
          "output_type": "execute_result",
          "data": {
            "text/plain": [
              "MultinomialNB()"
            ]
          },
          "metadata": {},
          "execution_count": 131
        }
      ]
    },
    {
      "cell_type": "code",
      "source": [
        "y_test=y_test.flatten()\n",
        "y_test"
      ],
      "metadata": {
        "colab": {
          "base_uri": "https://localhost:8080/"
        },
        "id": "MLcF48-J972J",
        "outputId": "089121fe-fea2-4623-f0d8-58fb9585df2d"
      },
      "execution_count": 132,
      "outputs": [
        {
          "output_type": "execute_result",
          "data": {
            "text/plain": [
              "array(['0', '1', '0', ..., '0', '0', '0'], dtype=object)"
            ]
          },
          "metadata": {},
          "execution_count": 132
        }
      ]
    },
    {
      "cell_type": "code",
      "source": [
        "y_pred=model.predict(testing_data)\n",
        "\n",
        "np.set_printoptions(precision=2)\n",
        "\n",
        "print(np.concatenate((y_pred.reshape(len(y_pred),1),y_test.reshape(len(y_test),1)),1))"
      ],
      "metadata": {
        "colab": {
          "base_uri": "https://localhost:8080/"
        },
        "id": "c4Q3ht68-Dir",
        "outputId": "cfb4d23a-8922-4164-bb44-0c66a408d566"
      },
      "execution_count": 133,
      "outputs": [
        {
          "output_type": "stream",
          "name": "stdout",
          "text": [
            "[['0' '0']\n",
            " ['1' '1']\n",
            " ['0' '0']\n",
            " ...\n",
            " ['0' '0']\n",
            " ['0' '0']\n",
            " ['0' '0']]\n"
          ]
        }
      ]
    },
    {
      "cell_type": "code",
      "source": [
        "print('predicted training data',model.score(training_data,y_train))\n",
        "print('predicted testing data',model.score(testing_data,y_test))"
      ],
      "metadata": {
        "colab": {
          "base_uri": "https://localhost:8080/"
        },
        "id": "hgjCzwtv-GRY",
        "outputId": "ed0e5656-7033-435a-c7bc-395eca814506"
      },
      "execution_count": 134,
      "outputs": [
        {
          "output_type": "stream",
          "name": "stdout",
          "text": [
            "predicted training data 0.877375\n",
            "predicted testing data 0.7990502374406399\n"
          ]
        }
      ]
    },
    {
      "cell_type": "code",
      "source": [
        "from sklearn.metrics import confusion_matrix,accuracy_score\n",
        "cm=confusion_matrix(y_test,y_pred)\n",
        "print(cm)\n",
        "print(\"Accuracy=\",accuracy_score(y_test,y_pred)*100)"
      ],
      "metadata": {
        "colab": {
          "base_uri": "https://localhost:8080/"
        },
        "id": "JAD-mMSK-J4b",
        "outputId": "229c1f2a-a27d-42bd-9473-f86f742231ee"
      },
      "execution_count": 135,
      "outputs": [
        {
          "output_type": "stream",
          "name": "stdout",
          "text": [
            "[[2044  385]\n",
            " [ 419 1153]]\n",
            "Accuracy= 79.90502374406398\n"
          ]
        }
      ]
    },
    {
      "cell_type": "code",
      "source": [
        "TN=2044\n",
        "FN=385\n",
        "FP=419\n",
        "TP=1153\n",
        "accuracy_naive=(TP+TN)/(TP+TN+FN+FP)\n",
        "print(accuracy_naive*100)"
      ],
      "metadata": {
        "colab": {
          "base_uri": "https://localhost:8080/"
        },
        "id": "m1y5Ca5mLJe-",
        "outputId": "ec1a224e-0f78-4881-f5fe-ef9ea9603761"
      },
      "execution_count": 136,
      "outputs": [
        {
          "output_type": "stream",
          "name": "stdout",
          "text": [
            "79.90502374406398\n"
          ]
        }
      ]
    },
    {
      "cell_type": "code",
      "source": [
        "bully = df[df.label==1]\n",
        "nonbully = df[df.label==0]"
      ],
      "metadata": {
        "id": "3EFRcbfzLcjs"
      },
      "execution_count": 137,
      "outputs": []
    },
    {
      "cell_type": "markdown",
      "source": [
        "#DECISION TREE CLASSIFIER"
      ],
      "metadata": {
        "id": "Xa1b2hEv_33q"
      }
    },
    {
      "cell_type": "code",
      "source": [
        "from sklearn.feature_extraction.text import CountVectorizer\n",
        "count_vector=CountVectorizer()\n",
        "#Transform the training data into freq vectors and return matrix\n",
        "training_data=count_vector.fit_transform(x_train.flatten())\n",
        "\n",
        "#Transform the testing data into freq vectors and return matrix\n",
        "testing_data=count_vector.transform(x_test.flatten())\n"
      ],
      "metadata": {
        "id": "r4lVMelF-Mpq"
      },
      "execution_count": 138,
      "outputs": []
    },
    {
      "cell_type": "code",
      "source": [
        "from sklearn.tree import DecisionTreeClassifier\n",
        "tree=DecisionTreeClassifier()\n",
        "tree.fit(training_data,y_train)"
      ],
      "metadata": {
        "colab": {
          "base_uri": "https://localhost:8080/"
        },
        "id": "LzJ2pxlz_022",
        "outputId": "7bbda2e6-d909-44ae-9c8a-7aa1ba00e256"
      },
      "execution_count": 139,
      "outputs": [
        {
          "output_type": "execute_result",
          "data": {
            "text/plain": [
              "DecisionTreeClassifier()"
            ]
          },
          "metadata": {},
          "execution_count": 139
        }
      ]
    },
    {
      "cell_type": "code",
      "source": [
        "y_test=y_test.flatten()\n",
        "y_test"
      ],
      "metadata": {
        "colab": {
          "base_uri": "https://localhost:8080/"
        },
        "id": "1iRxGF88_zPW",
        "outputId": "7037fbbb-8620-42fb-aa2b-ce78328f0dd7"
      },
      "execution_count": 140,
      "outputs": [
        {
          "output_type": "execute_result",
          "data": {
            "text/plain": [
              "array(['0', '1', '0', ..., '0', '0', '0'], dtype=object)"
            ]
          },
          "metadata": {},
          "execution_count": 140
        }
      ]
    },
    {
      "cell_type": "code",
      "source": [
        "y_pred=tree.predict(testing_data)\n",
        "\n",
        "np.set_printoptions(precision=2)\n",
        "\n",
        "print(np.concatenate((y_pred.reshape(len(y_pred),1),y_test.reshape(len(y_test),1)),1))"
      ],
      "metadata": {
        "colab": {
          "base_uri": "https://localhost:8080/"
        },
        "id": "fBGTk-XDAMwe",
        "outputId": "2080b960-e448-4570-8cc5-fa41e832baaa"
      },
      "execution_count": 141,
      "outputs": [
        {
          "output_type": "stream",
          "name": "stdout",
          "text": [
            "[['0' '0']\n",
            " ['1' '1']\n",
            " ['0' '0']\n",
            " ...\n",
            " ['0' '0']\n",
            " ['0' '0']\n",
            " ['0' '0']]\n"
          ]
        }
      ]
    },
    {
      "cell_type": "code",
      "source": [
        "print('predicted training data',tree.score(training_data,y_train))\n",
        "print('predicted testing data',tree.score(testing_data,y_test))"
      ],
      "metadata": {
        "colab": {
          "base_uri": "https://localhost:8080/"
        },
        "id": "zjGHPKY-APk9",
        "outputId": "172858f7-5d53-4989-f64b-874162a49fa3"
      },
      "execution_count": 142,
      "outputs": [
        {
          "output_type": "stream",
          "name": "stdout",
          "text": [
            "predicted training data 0.9956875\n",
            "predicted testing data 0.8577855536115971\n"
          ]
        }
      ]
    },
    {
      "cell_type": "code",
      "source": [
        "from sklearn.metrics import confusion_matrix,accuracy_score\n",
        "cm=confusion_matrix(y_test,y_pred)\n",
        "print(cm)\n",
        "print(\"Accuracy=\",accuracy_score(y_test,y_pred)*100)"
      ],
      "metadata": {
        "colab": {
          "base_uri": "https://localhost:8080/"
        },
        "id": "AD7mZ-ERATLN",
        "outputId": "85c03f8f-08f7-4f32-98c3-dc3ddd9c1af1"
      },
      "execution_count": 143,
      "outputs": [
        {
          "output_type": "stream",
          "name": "stdout",
          "text": [
            "[[1941  488]\n",
            " [  81 1491]]\n",
            "Accuracy= 85.77855536115972\n"
          ]
        }
      ]
    },
    {
      "cell_type": "code",
      "source": [
        "TN=1935\n",
        "FN=494\n",
        "FP=77\n",
        "TP=1495\n",
        "accuracy_decision=(TP+TN)/(TP+TN+FN+FP)\n",
        "print(accuracy_decision*100)"
      ],
      "metadata": {
        "colab": {
          "base_uri": "https://localhost:8080/"
        },
        "id": "6D0TpBptL-cS",
        "outputId": "34aa195b-9a0a-441c-e0b9-ebc9d2c99924"
      },
      "execution_count": 144,
      "outputs": [
        {
          "output_type": "stream",
          "name": "stdout",
          "text": [
            "85.72856785803549\n"
          ]
        }
      ]
    },
    {
      "cell_type": "markdown",
      "source": [
        "\n",
        "\n",
        "#LOGISTIC REGRESSION\n",
        "\n"
      ],
      "metadata": {
        "id": "jcCseKxbCFpa"
      }
    },
    {
      "cell_type": "code",
      "source": [
        "#split the data into training data and testing\n",
        "from sklearn.model_selection import train_test_split\n",
        "x_train,x_test,y_train,y_test=train_test_split(x,y,test_size=0.2,random_state=0,shuffle=True) "
      ],
      "metadata": {
        "id": "QUkDIoj1CtjB"
      },
      "execution_count": 145,
      "outputs": []
    },
    {
      "cell_type": "code",
      "source": [
        "from sklearn.feature_extraction.text import CountVectorizer\n",
        "count_vector=CountVectorizer()\n",
        "#Transform the training data into freq vectors and return matrix\n",
        "training_data=count_vector.fit_transform(x_train.flatten())\n",
        "\n",
        "#Transform the testing data into freq vectors and return matrix\n",
        "testing_data=count_vector.transform(x_test.flatten())"
      ],
      "metadata": {
        "id": "ZY34LzKCCAsB"
      },
      "execution_count": 146,
      "outputs": []
    },
    {
      "cell_type": "code",
      "source": [
        "from sklearn.linear_model import LogisticRegression\n",
        "model2=LogisticRegression()\n",
        "model2.fit(training_data,y_train)\n",
        "print(model2)"
      ],
      "metadata": {
        "colab": {
          "base_uri": "https://localhost:8080/"
        },
        "id": "2jHZ_ljtCuh9",
        "outputId": "74c75b2a-4b01-49bc-eb2b-f25cd606da9f"
      },
      "execution_count": 147,
      "outputs": [
        {
          "output_type": "stream",
          "name": "stderr",
          "text": [
            "/usr/local/lib/python3.7/dist-packages/sklearn/utils/validation.py:993: DataConversionWarning: A column-vector y was passed when a 1d array was expected. Please change the shape of y to (n_samples, ), for example using ravel().\n",
            "  y = column_or_1d(y, warn=True)\n"
          ]
        },
        {
          "output_type": "stream",
          "name": "stdout",
          "text": [
            "LogisticRegression()\n"
          ]
        },
        {
          "output_type": "stream",
          "name": "stderr",
          "text": [
            "/usr/local/lib/python3.7/dist-packages/sklearn/linear_model/_logistic.py:818: ConvergenceWarning: lbfgs failed to converge (status=1):\n",
            "STOP: TOTAL NO. of ITERATIONS REACHED LIMIT.\n",
            "\n",
            "Increase the number of iterations (max_iter) or scale the data as shown in:\n",
            "    https://scikit-learn.org/stable/modules/preprocessing.html\n",
            "Please also refer to the documentation for alternative solver options:\n",
            "    https://scikit-learn.org/stable/modules/linear_model.html#logistic-regression\n",
            "  extra_warning_msg=_LOGISTIC_SOLVER_CONVERGENCE_MSG,\n"
          ]
        }
      ]
    },
    {
      "cell_type": "code",
      "source": [
        "y_test=y_test.flatten()\n",
        "y_test"
      ],
      "metadata": {
        "colab": {
          "base_uri": "https://localhost:8080/"
        },
        "id": "iJA1kckBDCsT",
        "outputId": "8f00c727-d051-456a-caf2-c873789258e8"
      },
      "execution_count": 148,
      "outputs": [
        {
          "output_type": "execute_result",
          "data": {
            "text/plain": [
              "array(['0', '1', '0', ..., '0', '0', '0'], dtype=object)"
            ]
          },
          "metadata": {},
          "execution_count": 148
        }
      ]
    },
    {
      "cell_type": "code",
      "source": [
        "y_pred=model2.predict(testing_data)\n",
        "\n",
        "np.set_printoptions(precision=2)\n",
        "\n",
        "print(np.concatenate((y_pred.reshape(len(y_pred),1),y_test.reshape(len(y_test),1)),1))"
      ],
      "metadata": {
        "colab": {
          "base_uri": "https://localhost:8080/"
        },
        "id": "xnaCq0tzDYqn",
        "outputId": "2a47da37-866a-4bd0-d806-c11fe55f16da"
      },
      "execution_count": 149,
      "outputs": [
        {
          "output_type": "stream",
          "name": "stdout",
          "text": [
            "[['0' '0']\n",
            " ['1' '1']\n",
            " ['0' '0']\n",
            " ...\n",
            " ['0' '0']\n",
            " ['0' '0']\n",
            " ['0' '0']]\n"
          ]
        }
      ]
    },
    {
      "cell_type": "code",
      "source": [
        "print('predicted training data',model2.score(training_data,y_train))\n",
        "print('predicted testing data',model2.score(testing_data,y_test))"
      ],
      "metadata": {
        "colab": {
          "base_uri": "https://localhost:8080/"
        },
        "id": "Ow91idn6DgvM",
        "outputId": "a20c8b4f-fd4d-4e18-99df-840c115b14f4"
      },
      "execution_count": 150,
      "outputs": [
        {
          "output_type": "stream",
          "name": "stdout",
          "text": [
            "predicted training data 0.9319375\n",
            "predicted testing data 0.8397900524868783\n"
          ]
        }
      ]
    },
    {
      "cell_type": "code",
      "source": [
        "from sklearn.metrics import confusion_matrix,accuracy_score\n",
        "cm=confusion_matrix(y_test,y_pred)\n",
        "print(cm)\n",
        "print(\"Accuracy=\",accuracy_score(y_test,y_pred)*100)"
      ],
      "metadata": {
        "colab": {
          "base_uri": "https://localhost:8080/"
        },
        "id": "AMdGHE2lDryJ",
        "outputId": "9c726d46-28d5-4abb-acac-2987aafe8a2d"
      },
      "execution_count": 151,
      "outputs": [
        {
          "output_type": "stream",
          "name": "stdout",
          "text": [
            "[[2037  392]\n",
            " [ 249 1323]]\n",
            "Accuracy= 83.97900524868783\n"
          ]
        }
      ]
    },
    {
      "cell_type": "code",
      "source": [
        "TN=2037 \n",
        "FN=392\n",
        "FP=249\n",
        "TP=1323\n",
        "accuracy_logistic=(TP+TN)/(TP+TN+FN+FP)\n",
        "print(accuracy_logistic*100)"
      ],
      "metadata": {
        "colab": {
          "base_uri": "https://localhost:8080/"
        },
        "id": "MXTi8gQBLuhx",
        "outputId": "55df4b9b-ad71-47f7-a5fd-855a0fcd896f"
      },
      "execution_count": 152,
      "outputs": [
        {
          "output_type": "stream",
          "name": "stdout",
          "text": [
            "83.97900524868783\n"
          ]
        }
      ]
    },
    {
      "cell_type": "markdown",
      "source": [
        "#RANDOM FOREST CLASSIFIER"
      ],
      "metadata": {
        "id": "Qkhhu8ysE8Nw"
      }
    },
    {
      "cell_type": "code",
      "source": [
        "#split the data into training data and testing\n",
        "from sklearn.model_selection import train_test_split\n",
        "x_train,x_test,y_train,y_test=train_test_split(x,y,test_size=0.2,random_state=0,shuffle=True) "
      ],
      "metadata": {
        "id": "51mMBfbFE7ss"
      },
      "execution_count": 153,
      "outputs": []
    },
    {
      "cell_type": "code",
      "source": [
        "from sklearn.feature_extraction.text import CountVectorizer\n",
        "count_vector=CountVectorizer()\n",
        "#Transform the training data into freq vectors and return matrix\n",
        "training_data=count_vector.fit_transform(x_train.flatten())\n",
        "\n",
        "#Transform the testing data into freq vectors and return matrix\n",
        "testing_data=count_vector.transform(x_test.flatten())"
      ],
      "metadata": {
        "id": "TeoVr1fJFHgH"
      },
      "execution_count": 154,
      "outputs": []
    },
    {
      "cell_type": "code",
      "source": [
        "from sklearn.ensemble import RandomForestClassifier\n",
        "forest=RandomForestClassifier()\n",
        "forest.fit(training_data,y_train)"
      ],
      "metadata": {
        "colab": {
          "base_uri": "https://localhost:8080/"
        },
        "id": "Ume5tygSFIsM",
        "outputId": "e8a612bf-e1fe-477f-bb42-82a1be7fd698"
      },
      "execution_count": 155,
      "outputs": [
        {
          "output_type": "stream",
          "name": "stderr",
          "text": [
            "/usr/local/lib/python3.7/dist-packages/ipykernel_launcher.py:3: DataConversionWarning: A column-vector y was passed when a 1d array was expected. Please change the shape of y to (n_samples,), for example using ravel().\n",
            "  This is separate from the ipykernel package so we can avoid doing imports until\n"
          ]
        },
        {
          "output_type": "execute_result",
          "data": {
            "text/plain": [
              "RandomForestClassifier()"
            ]
          },
          "metadata": {},
          "execution_count": 155
        }
      ]
    },
    {
      "cell_type": "code",
      "source": [
        "y_test=y_test.flatten()\n",
        "y_test"
      ],
      "metadata": {
        "colab": {
          "base_uri": "https://localhost:8080/"
        },
        "id": "JW_6yDTLFVZ1",
        "outputId": "d6db4371-1ea6-4fd1-9ab6-b77922c88979"
      },
      "execution_count": 156,
      "outputs": [
        {
          "output_type": "execute_result",
          "data": {
            "text/plain": [
              "array(['0', '1', '0', ..., '0', '0', '0'], dtype=object)"
            ]
          },
          "metadata": {},
          "execution_count": 156
        }
      ]
    },
    {
      "cell_type": "code",
      "source": [
        "y_pred=forest.predict(testing_data)\n",
        "\n",
        "np.set_printoptions(precision=2)\n",
        "\n",
        "print(np.concatenate((y_pred.reshape(len(y_pred),1),y_test.reshape(len(y_test),1)),1))"
      ],
      "metadata": {
        "colab": {
          "base_uri": "https://localhost:8080/"
        },
        "id": "u8g2Og2KFa9g",
        "outputId": "da284e52-50e8-4a0e-c001-50bc260a7585"
      },
      "execution_count": 157,
      "outputs": [
        {
          "output_type": "stream",
          "name": "stdout",
          "text": [
            "[['0' '0']\n",
            " ['1' '1']\n",
            " ['0' '0']\n",
            " ...\n",
            " ['0' '0']\n",
            " ['0' '0']\n",
            " ['0' '0']]\n"
          ]
        }
      ]
    },
    {
      "cell_type": "code",
      "source": [
        "print('predicted training data',forest.score(training_data,y_train))\n",
        "print('predicted testing data',forest.score(testing_data,y_test))"
      ],
      "metadata": {
        "colab": {
          "base_uri": "https://localhost:8080/"
        },
        "id": "HbR7Rw6IFgcA",
        "outputId": "6d0ff064-751d-42f1-92d0-54bcbf68d441"
      },
      "execution_count": 158,
      "outputs": [
        {
          "output_type": "stream",
          "name": "stdout",
          "text": [
            "predicted training data 0.9956875\n",
            "predicted testing data 0.928767808047988\n"
          ]
        }
      ]
    },
    {
      "cell_type": "code",
      "source": [
        "from sklearn.metrics import confusion_matrix,accuracy_score\n",
        "cm=confusion_matrix(y_test,y_pred)\n",
        "print(cm)\n",
        "print(\"Accuracy=\",accuracy_score(y_test,y_pred)*100)"
      ],
      "metadata": {
        "colab": {
          "base_uri": "https://localhost:8080/"
        },
        "id": "JaOg6MJ4FmXe",
        "outputId": "a351f1d2-fea0-4cef-c78f-53ac441f8af9"
      },
      "execution_count": 159,
      "outputs": [
        {
          "output_type": "stream",
          "name": "stdout",
          "text": [
            "[[2228  201]\n",
            " [  84 1488]]\n",
            "Accuracy= 92.8767808047988\n"
          ]
        }
      ]
    },
    {
      "cell_type": "code",
      "source": [
        "TN=2227\n",
        "FN=202\n",
        "FP=84\n",
        "TP=1488\n",
        "accuracy_random=(TP+TN)/(TP+TN+FN+FP)\n",
        "print(accuracy_random*100)"
      ],
      "metadata": {
        "colab": {
          "base_uri": "https://localhost:8080/"
        },
        "id": "VCTliirKMHoS",
        "outputId": "2b28e3df-ef73-4f25-a9d8-a93b56bd0882"
      },
      "execution_count": 160,
      "outputs": [
        {
          "output_type": "stream",
          "name": "stdout",
          "text": [
            "92.85178705323669\n"
          ]
        }
      ]
    },
    {
      "cell_type": "markdown",
      "source": [
        "#KNeighbors Classifier"
      ],
      "metadata": {
        "id": "hA9MzIieFv3X"
      }
    },
    {
      "cell_type": "code",
      "source": [
        "#split the data into training data and testing\n",
        "from sklearn.model_selection import train_test_split\n",
        "x_train,x_test,y_train,y_test=train_test_split(x,y,test_size=0.2,random_state=0,shuffle=True) "
      ],
      "metadata": {
        "id": "YriqgQWOFvek"
      },
      "execution_count": 161,
      "outputs": []
    },
    {
      "cell_type": "code",
      "source": [
        "from sklearn.feature_extraction.text import CountVectorizer\n",
        "count_vector=CountVectorizer()\n",
        "#Transform the training data into freq vectors and return matrix\n",
        "training_data=count_vector.fit_transform(x_train.flatten())\n",
        "\n",
        "#Transform the testing data into freq vectors and return matrix\n",
        "testing_data=count_vector.transform(x_test.flatten())"
      ],
      "metadata": {
        "id": "iBPkqLMDF4BW"
      },
      "execution_count": 162,
      "outputs": []
    },
    {
      "cell_type": "code",
      "source": [
        "from sklearn.neighbors import KNeighborsClassifier\n",
        "model1=KNeighborsClassifier()\n",
        "model1.fit(training_data,y_train)"
      ],
      "metadata": {
        "colab": {
          "base_uri": "https://localhost:8080/"
        },
        "id": "8fZVPg1HF9hC",
        "outputId": "9c9d3694-847b-4c22-c472-39f3babe7c21"
      },
      "execution_count": 163,
      "outputs": [
        {
          "output_type": "stream",
          "name": "stderr",
          "text": [
            "/usr/local/lib/python3.7/dist-packages/sklearn/neighbors/_classification.py:198: DataConversionWarning: A column-vector y was passed when a 1d array was expected. Please change the shape of y to (n_samples,), for example using ravel().\n",
            "  return self._fit(X, y)\n"
          ]
        },
        {
          "output_type": "execute_result",
          "data": {
            "text/plain": [
              "KNeighborsClassifier()"
            ]
          },
          "metadata": {},
          "execution_count": 163
        }
      ]
    },
    {
      "cell_type": "code",
      "source": [
        "y_test=y_test.flatten()\n",
        "y_test"
      ],
      "metadata": {
        "colab": {
          "base_uri": "https://localhost:8080/"
        },
        "id": "9oXMXObkGDwb",
        "outputId": "6ab70df7-be3e-430e-f1dc-4809127e12e3"
      },
      "execution_count": 164,
      "outputs": [
        {
          "output_type": "execute_result",
          "data": {
            "text/plain": [
              "array(['0', '1', '0', ..., '0', '0', '0'], dtype=object)"
            ]
          },
          "metadata": {},
          "execution_count": 164
        }
      ]
    },
    {
      "cell_type": "code",
      "source": [
        "y_pred=model1.predict(testing_data)\n",
        "\n",
        "np.set_printoptions(precision=2)\n",
        "\n",
        "print(np.concatenate((y_pred.reshape(len(y_pred),1),y_test.reshape(len(y_test),1)),1))"
      ],
      "metadata": {
        "colab": {
          "base_uri": "https://localhost:8080/"
        },
        "id": "WFe_nueAGJGd",
        "outputId": "2a5ecf6d-6452-4961-d39b-e234ebe9e680"
      },
      "execution_count": 165,
      "outputs": [
        {
          "output_type": "stream",
          "name": "stdout",
          "text": [
            "[['0' '0']\n",
            " ['0' '1']\n",
            " ['0' '0']\n",
            " ...\n",
            " ['0' '0']\n",
            " ['0' '0']\n",
            " ['0' '0']]\n"
          ]
        }
      ]
    },
    {
      "cell_type": "code",
      "source": [
        "print('predicted training data',model1.score(training_data,y_train))\n",
        "print('predicted testing data',model1.score(testing_data,y_test))"
      ],
      "metadata": {
        "colab": {
          "base_uri": "https://localhost:8080/"
        },
        "id": "ML-oxr76GhcD",
        "outputId": "220d1a49-670e-4049-a176-5f0f813cb46f"
      },
      "execution_count": 166,
      "outputs": [
        {
          "output_type": "stream",
          "name": "stdout",
          "text": [
            "predicted training data 0.8196875\n",
            "predicted testing data 0.7120719820044988\n"
          ]
        }
      ]
    },
    {
      "cell_type": "code",
      "source": [
        "from sklearn.metrics import confusion_matrix,accuracy_score\n",
        "cm=confusion_matrix(y_test,y_pred)\n",
        "print(cm)\n",
        "print(\"Accuracy=\",accuracy_score(y_test,y_pred)*100)"
      ],
      "metadata": {
        "colab": {
          "base_uri": "https://localhost:8080/"
        },
        "id": "sbZp0Db2Go9b",
        "outputId": "8d97c830-b06d-4be9-f9ed-61a5a3063599"
      },
      "execution_count": 167,
      "outputs": [
        {
          "output_type": "stream",
          "name": "stdout",
          "text": [
            "[[1738  691]\n",
            " [ 461 1111]]\n",
            "Accuracy= 71.20719820044988\n"
          ]
        }
      ]
    },
    {
      "cell_type": "code",
      "source": [
        "TN=1738\n",
        "FN=691\n",
        "FP=461\n",
        "TP=1111\n",
        "accuracy_knn=(TP+TN)/(TP+TN+FN+FP)\n",
        "print(accuracy_knn*100)"
      ],
      "metadata": {
        "colab": {
          "base_uri": "https://localhost:8080/"
        },
        "id": "U31WAjZKMN2D",
        "outputId": "17e7203b-b5c3-46fc-be47-af4bee442d11"
      },
      "execution_count": 168,
      "outputs": [
        {
          "output_type": "stream",
          "name": "stdout",
          "text": [
            "71.20719820044988\n"
          ]
        }
      ]
    },
    {
      "cell_type": "markdown",
      "source": [
        "#SVM\n"
      ],
      "metadata": {
        "id": "uLEZrLSpA1Hz"
      }
    },
    {
      "cell_type": "code",
      "source": [
        "#split the data into training data and testing\n",
        "from sklearn.model_selection import train_test_split\n",
        "x_train,x_test,y_train,y_test=train_test_split(x,y,test_size=0.2,random_state=0,shuffle=True) "
      ],
      "metadata": {
        "id": "xGd9VN_qEShb"
      },
      "execution_count": 169,
      "outputs": []
    },
    {
      "cell_type": "code",
      "source": [
        "from sklearn.feature_extraction.text import CountVectorizer\n",
        "count_vector=CountVectorizer()\n",
        "#Transform the training data into freq vectors and return matrix\n",
        "training_data=count_vector.fit_transform(x_train.flatten())\n",
        "\n",
        "#Transform the testing data into freq vectors and return matrix\n",
        "testing_data=count_vector.transform(x_test.flatten())"
      ],
      "metadata": {
        "id": "uO39dnFVBaAR"
      },
      "execution_count": 170,
      "outputs": []
    },
    {
      "cell_type": "code",
      "source": [
        "from sklearn.svm import SVC\n",
        "model3=SVC()\n",
        "model3.fit(training_data,y_train)"
      ],
      "metadata": {
        "colab": {
          "base_uri": "https://localhost:8080/"
        },
        "id": "0qXM1dvBAVaA",
        "outputId": "74e97067-087c-47e3-84f0-664890cc4bef"
      },
      "execution_count": 171,
      "outputs": [
        {
          "output_type": "stream",
          "name": "stderr",
          "text": [
            "/usr/local/lib/python3.7/dist-packages/sklearn/utils/validation.py:993: DataConversionWarning: A column-vector y was passed when a 1d array was expected. Please change the shape of y to (n_samples, ), for example using ravel().\n",
            "  y = column_or_1d(y, warn=True)\n"
          ]
        },
        {
          "output_type": "execute_result",
          "data": {
            "text/plain": [
              "SVC()"
            ]
          },
          "metadata": {},
          "execution_count": 171
        }
      ]
    },
    {
      "cell_type": "code",
      "source": [
        "print('predicted training data',model3.score(training_data,y_train))\n",
        "print('predicted testing data',model3.score(testing_data,y_test))"
      ],
      "metadata": {
        "colab": {
          "base_uri": "https://localhost:8080/"
        },
        "id": "F7QAP1IECZ8O",
        "outputId": "ed1ef34d-9472-44b5-821a-81e94b67c0b4"
      },
      "execution_count": 172,
      "outputs": [
        {
          "output_type": "stream",
          "name": "stdout",
          "text": [
            "predicted training data 0.95975\n",
            "predicted testing data 0.8872781804548863\n"
          ]
        }
      ]
    },
    {
      "cell_type": "code",
      "source": [
        "from sklearn.metrics import confusion_matrix,accuracy_score\n",
        "cm=confusion_matrix(y_test,y_pred)\n",
        "print(cm)\n",
        "print(\"Accuracy=\",accuracy_score(y_test,y_pred)*100)"
      ],
      "metadata": {
        "colab": {
          "base_uri": "https://localhost:8080/"
        },
        "id": "rdG-EEZ5CckU",
        "outputId": "91db532c-ddc9-404a-c4d6-ce58c1fe018e"
      },
      "execution_count": 173,
      "outputs": [
        {
          "output_type": "stream",
          "name": "stdout",
          "text": [
            "[[1738  691]\n",
            " [ 461 1111]]\n",
            "Accuracy= 71.20719820044988\n"
          ]
        }
      ]
    },
    {
      "cell_type": "code",
      "source": [
        "TN=1738\n",
        "FN=691\n",
        "FP=461\n",
        "TP=1111\n",
        "accuracy_svm=(TP+TN)/(TP+TN+FN+FP)\n",
        "print(accuracy_svm*100)"
      ],
      "metadata": {
        "colab": {
          "base_uri": "https://localhost:8080/"
        },
        "id": "b1aNG0IdMVDf",
        "outputId": "ab7efecd-f3de-4d39-fad0-4e031bddf198"
      },
      "execution_count": 174,
      "outputs": [
        {
          "output_type": "stream",
          "name": "stdout",
          "text": [
            "71.20719820044988\n"
          ]
        }
      ]
    },
    {
      "cell_type": "code",
      "source": [
        "import matplotlib.pyplot as plt\n",
        "\n",
        "fig = plt.figure()\n",
        "\n",
        "ax = fig.add_axes([0,0,1,1])\n",
        "\n",
        "algo = ['Logistic_regression','KNN','Naive_Bayes','SVM','Descision Tree','Random Forest']\n",
        "\n",
        "accuracy = [accuracy_logistic*100,accuracy_knn*100,accuracy_naive*100,accuracy_svm*100,accuracy_decision*100,accuracy_random*100]\n",
        "\n",
        "ax.bar(algo[0],accuracy[0],color = 'g')\n",
        "\n",
        "ax.bar(algo[1],accuracy[1],color = 'b')\n",
        "\n",
        "ax.bar(algo[2],accuracy[2],color = 'y')\n",
        "\n",
        "ax.bar(algo[3],accuracy[3],color = 'pink')\n",
        "\n",
        "ax.bar(algo[4],accuracy[4],color = 'orange')\n",
        "\n",
        "ax.bar(algo[5],accuracy[5],color = 'r')\n",
        "\n",
        "\n",
        "\n",
        "plt.xlabel('Classifiers ----->')\n",
        "\n",
        "plt.ylabel('Accuracies ---->')\n",
        "\n",
        "plt.title('ACCURACIES RESULTED')\n",
        "\n",
        "plt.show()"
      ],
      "metadata": {
        "colab": {
          "base_uri": "https://localhost:8080/",
          "height": 367
        },
        "id": "n-vGV_ThMaQh",
        "outputId": "380dafb3-67fa-4588-bc94-a85c0ec0ca41"
      },
      "execution_count": 177,
      "outputs": [
        {
          "output_type": "display_data",
          "data": {
            "text/plain": [
              "<Figure size 432x288 with 1 Axes>"
            ],
            "image/png": "[encoded data removed]"
          },
          "metadata": {
            "needs_background": "light"
          }
        }
      ]
    },
    {
      "cell_type": "code",
      "source": [
        ""
      ],
      "metadata": {
        "id": "4uHK8a6DMx8c"
      },
      "execution_count": 176,
      "outputs": []
    }
  ]
}