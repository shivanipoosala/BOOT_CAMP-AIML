{
  "nbformat": 4,
  "nbformat_minor": 0,
  "metadata": {
    "colab": {
      "name": "DAY-5_ASSIGNMENT",
      "provenance": [],
      "collapsed_sections": [],
      "authorship_tag": "ABX9TyPXvEm4CaMbuXWkaJKMBNMG",
      "include_colab_link": true
    },
    "kernelspec": {
      "name": "python3",
      "display_name": "Python 3"
    },
    "language_info": {
      "name": "python"
    }
  },
  "cells": [
    {
      "cell_type": "markdown",
      "metadata": {
        "id": "view-in-github",
        "colab_type": "text"
      },
      "source": [
        "<a href=\"https://colab.research.google.com/github/shivanipoosala/BOOT_CAMP-AIML/blob/main/DAY_5_ASSIGNMENT.ipynb\" target=\"_parent\"><img src=\"https://colab.research.google.com/assets/colab-badge.svg\" alt=\"Open In Colab\"/></a>"
      ]
    },
    {
      "cell_type": "code",
      "execution_count": null,
      "metadata": {
        "colab": {
          "base_uri": "https://localhost:8080/"
        },
        "id": "eyknKsCjKKzS",
        "outputId": "4295f0e1-6107-4560-957f-095511524c4f"
      },
      "outputs": [
        {
          "output_type": "stream",
          "name": "stdout",
          "text": [
            "    SNO  ENGINESIZE  CO2EMISSIONS\n",
            "0     0         2.0         196.0\n",
            "1     1         2.4         221.0\n",
            "2     2         1.5         136.0\n",
            "3     3         3.5         255.0\n",
            "4     4         3.5         244.0\n",
            "5     5         3.5         230.0\n",
            "6     6         3.5         232.0\n",
            "7     7         3.7         232.0\n",
            "8     8         3.7         255.0\n",
            "9     9         2.4         267.0\n",
            "10   10         3.5           NaN\n",
            "11   11         2.5           NaN\n",
            "12   12         NaN         269.0\n",
            "13   13         2.6         270.0\n"
          ]
        }
      ],
      "source": [
        "import pandas as pd\n",
        "d=pd.read_csv('/content/EmissionsData.csv')\n",
        "print(d)"
      ]
    },
    {
      "cell_type": "code",
      "source": [
        "d.head()"
      ],
      "metadata": {
        "colab": {
          "base_uri": "https://localhost:8080/",
          "height": 206
        },
        "id": "ikQFAr4zKbkR",
        "outputId": "649e3353-f0bc-48f4-d404-91a9a35f1414"
      },
      "execution_count": null,
      "outputs": [
        {
          "output_type": "execute_result",
          "data": {
            "text/plain": [
              "   SNO  ENGINESIZE  CO2EMISSIONS\n",
              "0    0         2.0         196.0\n",
              "1    1         2.4         221.0\n",
              "2    2         1.5         136.0\n",
              "3    3         3.5         255.0\n",
              "4    4         3.5         244.0"
            ],
            "text/html": [
              "\n",
              "  <div id=\"df-9608bad5-273a-4988-8790-9cca53e95b46\">\n",
              "    <div class=\"colab-df-container\">\n",
              "      <div>\n",
              "<style scoped>\n",
              "    .dataframe tbody tr th:only-of-type {\n",
              "        vertical-align: middle;\n",
              "    }\n",
              "\n",
              "    .dataframe tbody tr th {\n",
              "        vertical-align: top;\n",
              "    }\n",
              "\n",
              "    .dataframe thead th {\n",
              "        text-align: right;\n",
              "    }\n",
              "</style>\n",
              "<table border=\"1\" class=\"dataframe\">\n",
              "  <thead>\n",
              "    <tr style=\"text-align: right;\">\n",
              "      <th></th>\n",
              "      <th>SNO</th>\n",
              "      <th>ENGINESIZE</th>\n",
              "      <th>CO2EMISSIONS</th>\n",
              "    </tr>\n",
              "  </thead>\n",
              "  <tbody>\n",
              "    <tr>\n",
              "      <th>0</th>\n",
              "      <td>0</td>\n",
              "      <td>2.0</td>\n",
              "      <td>196.0</td>\n",
              "    </tr>\n",
              "    <tr>\n",
              "      <th>1</th>\n",
              "      <td>1</td>\n",
              "      <td>2.4</td>\n",
              "      <td>221.0</td>\n",
              "    </tr>\n",
              "    <tr>\n",
              "      <th>2</th>\n",
              "      <td>2</td>\n",
              "      <td>1.5</td>\n",
              "      <td>136.0</td>\n",
              "    </tr>\n",
              "    <tr>\n",
              "      <th>3</th>\n",
              "      <td>3</td>\n",
              "      <td>3.5</td>\n",
              "      <td>255.0</td>\n",
              "    </tr>\n",
              "    <tr>\n",
              "      <th>4</th>\n",
              "      <td>4</td>\n",
              "      <td>3.5</td>\n",
              "      <td>244.0</td>\n",
              "    </tr>\n",
              "  </tbody>\n",
              "</table>\n",
              "</div>\n",
              "      <button class=\"colab-df-convert\" onclick=\"convertToInteractive('df-9608bad5-273a-4988-8790-9cca53e95b46')\"\n",
              "              title=\"Convert this dataframe to an interactive table.\"\n",
              "              style=\"display:none;\">\n",
              "        \n",
              "  <svg xmlns=\"http://www.w3.org/2000/svg\" height=\"24px\"viewBox=\"0 0 24 24\"\n",
              "       width=\"24px\">\n",
              "    <path d=\"M0 0h24v24H0V0z\" fill=\"none\"/>\n",
              "    <path d=\"M18.56 5.44l.94 2.06.94-2.06 2.06-.94-2.06-.94-.94-2.06-.94 2.06-2.06.94zm-11 1L8.5 8.5l.94-2.06 2.06-.94-2.06-.94L8.5 2.5l-.94 2.06-2.06.94zm10 10l.94 2.06.94-2.06 2.06-.94-2.06-.94-.94-2.06-.94 2.06-2.06.94z\"/><path d=\"M17.41 7.96l-1.37-1.37c-.4-.4-.92-.59-1.43-.59-.52 0-1.04.2-1.43.59L10.3 9.45l-7.72 7.72c-.78.78-.78 2.05 0 2.83L4 21.41c.39.39.9.59 1.41.59.51 0 1.02-.2 1.41-.59l7.78-7.78 2.81-2.81c.8-.78.8-2.07 0-2.86zM5.41 20L4 18.59l7.72-7.72 1.47 1.35L5.41 20z\"/>\n",
              "  </svg>\n",
              "      </button>\n",
              "      \n",
              "  <style>\n",
              "    .colab-df-container {\n",
              "      display:flex;\n",
              "      flex-wrap:wrap;\n",
              "      gap: 12px;\n",
              "    }\n",
              "\n",
              "    .colab-df-convert {\n",
              "      background-color: #E8F0FE;\n",
              "      border: none;\n",
              "      border-radius: 50%;\n",
              "      cursor: pointer;\n",
              "      display: none;\n",
              "      fill: #1967D2;\n",
              "      height: 32px;\n",
              "      padding: 0 0 0 0;\n",
              "      width: 32px;\n",
              "    }\n",
              "\n",
              "    .colab-df-convert:hover {\n",
              "      background-color: #E2EBFA;\n",
              "      box-shadow: 0px 1px 2px rgba(60, 64, 67, 0.3), 0px 1px 3px 1px rgba(60, 64, 67, 0.15);\n",
              "      fill: #174EA6;\n",
              "    }\n",
              "\n",
              "    [theme=dark] .colab-df-convert {\n",
              "      background-color: #3B4455;\n",
              "      fill: #D2E3FC;\n",
              "    }\n",
              "\n",
              "    [theme=dark] .colab-df-convert:hover {\n",
              "      background-color: #434B5C;\n",
              "      box-shadow: 0px 1px 3px 1px rgba(0, 0, 0, 0.15);\n",
              "      filter: drop-shadow(0px 1px 2px rgba(0, 0, 0, 0.3));\n",
              "      fill: #FFFFFF;\n",
              "    }\n",
              "  </style>\n",
              "\n",
              "      <script>\n",
              "        const buttonEl =\n",
              "          document.querySelector('#df-9608bad5-273a-4988-8790-9cca53e95b46 button.colab-df-convert');\n",
              "        buttonEl.style.display =\n",
              "          google.colab.kernel.accessAllowed ? 'block' : 'none';\n",
              "\n",
              "        async function convertToInteractive(key) {\n",
              "          const element = document.querySelector('#df-9608bad5-273a-4988-8790-9cca53e95b46');\n",
              "          const dataTable =\n",
              "            await google.colab.kernel.invokeFunction('convertToInteractive',\n",
              "                                                     [key], {});\n",
              "          if (!dataTable) return;\n",
              "\n",
              "          const docLinkHtml = 'Like what you see? Visit the ' +\n",
              "            '<a target=\"_blank\" href=https://colab.research.google.com/notebooks/data_table.ipynb>data table notebook</a>'\n",
              "            + ' to learn more about interactive tables.';\n",
              "          element.innerHTML = '';\n",
              "          dataTable['output_type'] = 'display_data';\n",
              "          await google.colab.output.renderOutput(dataTable, element);\n",
              "          const docLink = document.createElement('div');\n",
              "          docLink.innerHTML = docLinkHtml;\n",
              "          element.appendChild(docLink);\n",
              "        }\n",
              "      </script>\n",
              "    </div>\n",
              "  </div>\n",
              "  "
            ]
          },
          "metadata": {},
          "execution_count": 99
        }
      ]
    },
    {
      "cell_type": "code",
      "source": [
        "#step2\n",
        "#visualize dataset\n",
        "import matplotlib.pyplot as plt\n",
        "plt.scatter(d.ENGINESIZE,d.CO2EMISSIONS,marker='*')\n",
        "plt.xlabel(\"ENGINESIZE\")\n",
        "plt.ylabel(\"CO2EMISSIONS\")\n",
        "plt.title(\" analysis\")\n",
        "plt.show()"
      ],
      "metadata": {
        "colab": {
          "base_uri": "https://localhost:8080/",
          "height": 295
        },
        "id": "69PD4x1AKjUJ",
        "outputId": "4959fb20-7b31-4ef3-f225-a4b302a616cf"
      },
      "execution_count": null,
      "outputs": [
        {
          "output_type": "display_data",
          "data": {
            "text/plain": [
              "<Figure size 432x288 with 1 Axes>"
            ],
            "image/png": "[encoded data removed]"
          },
          "metadata": {
            "needs_background": "light"
          }
        }
      ]
    },
    {
      "cell_type": "code",
      "source": [
        "#seaborn\n",
        "import seaborn as sns\n",
        "def heatmap(d):\n",
        "  plt.figure(figsize=(6,4))\n",
        "  sns.heatmap(d.isnull(),yticklabels=False,cbar=False)\n",
        "  plt.tight_layout()\n",
        "  return plt.show()\n",
        "heatmap(d)"
      ],
      "metadata": {
        "colab": {
          "base_uri": "https://localhost:8080/",
          "height": 297
        },
        "id": "wWIUYXhZKqpk",
        "outputId": "acfb8392-d6b5-44fc-bd0e-72e4a81dd6dd"
      },
      "execution_count": null,
      "outputs": [
        {
          "output_type": "display_data",
          "data": {
            "text/plain": [
              "<Figure size 432x288 with 1 Axes>"
            ],
            "image/png": "[encoded data removed]"
          },
          "metadata": {
            "needs_background": "light"
          }
        }
      ]
    },
    {
      "cell_type": "code",
      "source": [
        "#step 4\n",
        "#preprocessing the dataset\n",
        "#method  drop the roes with NaN values\n",
        "'''d=d.dropna()\n",
        "d.head()'''\n",
        "import math\n",
        "median_ENGINESIZE=math.floor(d.ENGINESIZE.median())\n",
        "print(median_ENGINESIZE)\n",
        "d.ENGINESIZE=d.ENGINESIZE.fillna(median_ENGINESIZE)"
      ],
      "metadata": {
        "colab": {
          "base_uri": "https://localhost:8080/"
        },
        "id": "1F2II0O5LQCh",
        "outputId": "f1ef79f4-51e2-41dc-a83e-11253e1ed865"
      },
      "execution_count": null,
      "outputs": [
        {
          "output_type": "stream",
          "name": "stdout",
          "text": [
            "3\n"
          ]
        }
      ]
    },
    {
      "cell_type": "code",
      "source": [
        "mean_CO2EMISSIONS=math.floor(d.CO2EMISSIONS.mean())\n",
        "mean_CO2EMISSIONS\n"
      ],
      "metadata": {
        "colab": {
          "base_uri": "https://localhost:8080/"
        },
        "id": "eLb1RxunHlE3",
        "outputId": "30965b09-75a2-4c21-ecb0-b0c397bdd436"
      },
      "execution_count": null,
      "outputs": [
        {
          "output_type": "execute_result",
          "data": {
            "text/plain": [
              "233"
            ]
          },
          "metadata": {},
          "execution_count": 140
        }
      ]
    },
    {
      "cell_type": "code",
      "source": [
        "d.CO2EMISSIONS=d.CO2EMISSIONS.fillna(mean_CO2EMISSIONS)"
      ],
      "metadata": {
        "id": "7TYRCl-6TnKH"
      },
      "execution_count": null,
      "outputs": []
    },
    {
      "cell_type": "code",
      "source": [
        "#seaborn\n",
        "import seaborn as sns\n",
        "def get_heatmap(d):\n",
        "  plt.figure(figsize=(6,4))\n",
        "  sns.heatmap(d.isnull(),yticklabels=False,cbar=False,cmap='viridis')\n",
        "  plt.tight_layout()\n",
        "  return plt.show()\n",
        "get_heatmap(d)"
      ],
      "metadata": {
        "colab": {
          "base_uri": "https://localhost:8080/",
          "height": 297
        },
        "id": "zQIFSD3VLTv7",
        "outputId": "1b902924-1d9a-4992-dddf-78a56e33ff1d"
      },
      "execution_count": null,
      "outputs": [
        {
          "output_type": "display_data",
          "data": {
            "text/plain": [
              "<Figure size 432x288 with 1 Axes>"
            ],
            "image/png": "[encoded data removed]"
          },
          "metadata": {
            "needs_background": "light"
          }
        }
      ]
    },
    {
      "cell_type": "code",
      "source": [
        "#step4\n",
        "x=d.iloc[0:,-2:-1].values\n",
        "x"
      ],
      "metadata": {
        "colab": {
          "base_uri": "https://localhost:8080/"
        },
        "id": "Tbxer3_3MmGG",
        "outputId": "b3868da6-264a-4312-83e3-0c785b0e4774"
      },
      "execution_count": null,
      "outputs": [
        {
          "output_type": "execute_result",
          "data": {
            "text/plain": [
              "array([[2. ],\n",
              "       [2.4],\n",
              "       [1.5],\n",
              "       [3.5],\n",
              "       [3.5],\n",
              "       [3.5],\n",
              "       [3.5],\n",
              "       [3.7],\n",
              "       [3.7],\n",
              "       [2.4],\n",
              "       [3.5],\n",
              "       [2.5],\n",
              "       [3. ],\n",
              "       [2.6]])"
            ]
          },
          "metadata": {},
          "execution_count": 143
        }
      ]
    },
    {
      "cell_type": "code",
      "source": [
        "y=d.iloc[:,-1:].values\n",
        "y"
      ],
      "metadata": {
        "colab": {
          "base_uri": "https://localhost:8080/"
        },
        "id": "emxHKKV0My77",
        "outputId": "a772b102-26e8-402b-bf26-7af8f1f749c4"
      },
      "execution_count": null,
      "outputs": [
        {
          "output_type": "execute_result",
          "data": {
            "text/plain": [
              "array([[196.],\n",
              "       [221.],\n",
              "       [136.],\n",
              "       [255.],\n",
              "       [244.],\n",
              "       [230.],\n",
              "       [232.],\n",
              "       [232.],\n",
              "       [255.],\n",
              "       [267.],\n",
              "       [233.],\n",
              "       [233.],\n",
              "       [269.],\n",
              "       [270.]])"
            ]
          },
          "metadata": {},
          "execution_count": 144
        }
      ]
    },
    {
      "cell_type": "code",
      "source": [
        "#splitting the dataset into training and testing\n",
        "from sklearn.model_selection import train_test_split\n",
        "x_train,x_test,y_train,y_test=train_test_split(x,y,test_size=0.2,random_state=0)"
      ],
      "metadata": {
        "id": "G6eIFb03NjbP"
      },
      "execution_count": null,
      "outputs": []
    },
    {
      "cell_type": "code",
      "source": [
        "x_train"
      ],
      "metadata": {
        "colab": {
          "base_uri": "https://localhost:8080/"
        },
        "id": "VI7aHO8zN3bZ",
        "outputId": "8e9191b6-1e63-4314-d1ee-084b86606d92"
      },
      "execution_count": null,
      "outputs": [
        {
          "output_type": "execute_result",
          "data": {
            "text/plain": [
              "array([[2.5],\n",
              "       [1.5],\n",
              "       [2.6],\n",
              "       [2.4],\n",
              "       [2.4],\n",
              "       [3.7],\n",
              "       [3.5],\n",
              "       [3.5],\n",
              "       [2. ],\n",
              "       [3.5],\n",
              "       [3. ]])"
            ]
          },
          "metadata": {},
          "execution_count": 159
        }
      ]
    },
    {
      "cell_type": "code",
      "source": [
        "y_train"
      ],
      "metadata": {
        "colab": {
          "base_uri": "https://localhost:8080/"
        },
        "id": "Mz6b7Mt4OGwF",
        "outputId": "17873296-6016-44fb-9e06-9caaa349258b"
      },
      "execution_count": null,
      "outputs": [
        {
          "output_type": "execute_result",
          "data": {
            "text/plain": [
              "array([[233.],\n",
              "       [136.],\n",
              "       [270.],\n",
              "       [267.],\n",
              "       [221.],\n",
              "       [232.],\n",
              "       [233.],\n",
              "       [255.],\n",
              "       [196.],\n",
              "       [230.],\n",
              "       [269.]])"
            ]
          },
          "metadata": {},
          "execution_count": 160
        }
      ]
    },
    {
      "cell_type": "code",
      "source": [
        "x_test"
      ],
      "metadata": {
        "colab": {
          "base_uri": "https://localhost:8080/"
        },
        "id": "Y8y1C9JTOKlT",
        "outputId": "1ad9cda2-60ed-4387-d85b-013085c5d213"
      },
      "execution_count": null,
      "outputs": [
        {
          "output_type": "execute_result",
          "data": {
            "text/plain": [
              "array([[3.7],\n",
              "       [3.5],\n",
              "       [3.5]])"
            ]
          },
          "metadata": {},
          "execution_count": 161
        }
      ]
    },
    {
      "cell_type": "code",
      "source": [
        "y_test"
      ],
      "metadata": {
        "colab": {
          "base_uri": "https://localhost:8080/"
        },
        "id": "hH7S3RvpONkZ",
        "outputId": "83b015df-a308-47ec-a482-065ba2710d82"
      },
      "execution_count": null,
      "outputs": [
        {
          "output_type": "execute_result",
          "data": {
            "text/plain": [
              "array([[255.],\n",
              "       [232.],\n",
              "       [244.]])"
            ]
          },
          "metadata": {},
          "execution_count": 162
        }
      ]
    },
    {
      "cell_type": "code",
      "source": [
        "#Training model -fitting the algorith\n",
        "from sklearn.linear_model import  LinearRegression\n",
        "model=LinearRegression()"
      ],
      "metadata": {
        "id": "Zc7Xy7HKOReZ"
      },
      "execution_count": null,
      "outputs": []
    },
    {
      "cell_type": "code",
      "source": [
        "model.fit(x_train,y_train)"
      ],
      "metadata": {
        "colab": {
          "base_uri": "https://localhost:8080/"
        },
        "id": "qtdPHVEjOUoQ",
        "outputId": "7a35c0d1-1bb9-4889-c119-48bfc15d8430"
      },
      "execution_count": null,
      "outputs": [
        {
          "output_type": "execute_result",
          "data": {
            "text/plain": [
              "LinearRegression()"
            ]
          },
          "metadata": {},
          "execution_count": 164
        }
      ]
    },
    {
      "cell_type": "code",
      "source": [
        "\n",
        "y_pred=model.predict(x_test)\n",
        "y_pred"
      ],
      "metadata": {
        "colab": {
          "base_uri": "https://localhost:8080/"
        },
        "id": "2bz8dFWCOXXm",
        "outputId": "eefd477b-de44-4a76-e806-e95f02b0b13a"
      },
      "execution_count": null,
      "outputs": [
        {
          "output_type": "execute_result",
          "data": {
            "text/plain": [
              "array([[259.68622904],\n",
              "       [253.45754549],\n",
              "       [253.45754549]])"
            ]
          },
          "metadata": {},
          "execution_count": 175
        }
      ]
    },
    {
      "cell_type": "code",
      "source": [
        "y_test"
      ],
      "metadata": {
        "colab": {
          "base_uri": "https://localhost:8080/"
        },
        "id": "ASdOdJeoL3Ta",
        "outputId": "64f1accd-d744-4d78-8869-12dbc64fc905"
      },
      "execution_count": null,
      "outputs": [
        {
          "output_type": "execute_result",
          "data": {
            "text/plain": [
              "array([[255.],\n",
              "       [232.],\n",
              "       [244.]])"
            ]
          },
          "metadata": {},
          "execution_count": 176
        }
      ]
    },
    {
      "cell_type": "code",
      "source": [
        "#step 7\n",
        "print(\"predicted valueof training data:\",model.score(x_train,y_train))\n",
        "print(\"predicted valueof testing data:\",model.score(x_test,y_test))"
      ],
      "metadata": {
        "colab": {
          "base_uri": "https://localhost:8080/"
        },
        "id": "8x7yUL3AJklg",
        "outputId": "2f51efcb-0454-4ecf-e320-650a40af2365"
      },
      "execution_count": null,
      "outputs": [
        {
          "output_type": "stream",
          "name": "stdout",
          "text": [
            "predicted valueof training data: 0.325265263742891\n",
            "predicted valueof testing data: -1.1605749404872192\n"
          ]
        }
      ]
    },
    {
      "cell_type": "code",
      "source": [
        "train_accuracy=model.score(x_train,y_train)*100\n",
        "print(\"Training Accuracy of ML model\",train_accuracy)\n",
        "test_accuracy=model.score(x_test,y_test)*100\n",
        "print(\"Testing Accuracy of ML model\",test_accuracy)"
      ],
      "metadata": {
        "colab": {
          "base_uri": "https://localhost:8080/"
        },
        "id": "LGyZmePYJnqq",
        "outputId": "c9589d62-abc8-465e-ff9e-2ea122c73c3e"
      },
      "execution_count": null,
      "outputs": [
        {
          "output_type": "stream",
          "name": "stdout",
          "text": [
            "Training Accuracy of ML model 32.5265263742891\n",
            "Testing Accuracy of ML model -116.05749404872192\n"
          ]
        }
      ]
    },
    {
      "cell_type": "code",
      "source": [
        "accuracy=model.score(x,y)*100\n",
        "print(\"overall accuracy of ML model\",accuracy)"
      ],
      "metadata": {
        "colab": {
          "base_uri": "https://localhost:8080/"
        },
        "id": "YX5witQHJqea",
        "outputId": "a77c0dd5-22b0-4f2a-ce44-0d7cad53dd39"
      },
      "execution_count": null,
      "outputs": [
        {
          "output_type": "stream",
          "name": "stdout",
          "text": [
            "overall accuracy of ML model 31.631486410905186\n"
          ]
        }
      ]
    },
    {
      "cell_type": "code",
      "source": [
        "model.coef_"
      ],
      "metadata": {
        "colab": {
          "base_uri": "https://localhost:8080/"
        },
        "id": "jKVjYkmfWYiU",
        "outputId": "b44c8e1b-37d8-4c07-d0ae-ba1d04d18f2f"
      },
      "execution_count": null,
      "outputs": [
        {
          "output_type": "execute_result",
          "data": {
            "text/plain": [
              "array([[31.14341777]])"
            ]
          },
          "metadata": {},
          "execution_count": 181
        }
      ]
    },
    {
      "cell_type": "code",
      "source": [
        "model.intercept_"
      ],
      "metadata": {
        "colab": {
          "base_uri": "https://localhost:8080/"
        },
        "id": "nRmL_ruhS2N-",
        "outputId": "b3730cf4-4749-46d6-f86c-618577213685"
      },
      "execution_count": null,
      "outputs": [
        {
          "output_type": "execute_result",
          "data": {
            "text/plain": [
              "array([144.4555833])"
            ]
          },
          "metadata": {},
          "execution_count": 182
        }
      ]
    },
    {
      "cell_type": "code",
      "source": [
        "#step8:\n",
        "line=model.coef_*x+model.intercept_\n",
        "plt.scatter(x,y)\n",
        "plt.plot(x,line);\n",
        "plt.show()"
      ],
      "metadata": {
        "colab": {
          "base_uri": "https://localhost:8080/",
          "height": 265
        },
        "id": "L-M7PVWcJtGH",
        "outputId": "1f8d7a63-8fd9-4be4-811e-edfc120ba7a7"
      },
      "execution_count": null,
      "outputs": [
        {
          "output_type": "display_data",
          "data": {
            "text/plain": [
              "<Figure size 432x288 with 1 Axes>"
            ],
            "image/png": "[encoded data removed]"
          },
          "metadata": {
            "needs_background": "light"
          }
        }
      ]
    },
    {
      "cell_type": "code",
      "source": [
        "plt.scatter(x_train,y_train,color='red')\n",
        "plt.plot(x_train,model.predict(x_train),color='blue')\n",
        "plt.xlabel(\"ENGINESIZE\")\n",
        "plt.ylabel(\"CO2EMISSIONS\")\n",
        "plt.title(\"Analysis\")\n",
        "plt.show()"
      ],
      "metadata": {
        "colab": {
          "base_uri": "https://localhost:8080/",
          "height": 295
        },
        "id": "cQ6dC77mJvPw",
        "outputId": "29b4bd50-b4d9-49c2-cb67-6c205e9dfc07"
      },
      "execution_count": null,
      "outputs": [
        {
          "output_type": "display_data",
          "data": {
            "text/plain": [
              "<Figure size 432x288 with 1 Axes>"
            ],
            "image/png": "[encoded data removed]"
          },
          "metadata": {
            "needs_background": "light"
          }
        }
      ]
    },
    {
      "cell_type": "code",
      "source": [
        "plt.scatter(x_test,y_test,color='red')\n",
        "plt.plot(x_test,model.predict(x_test),color='blue')\n",
        "plt.xlabel(\"ENGINESIZE\")\n",
        "plt.ylabel(\"CO2EMISSIONS\")\n",
        "plt.title(\"Analysis\")\n",
        "plt.show()"
      ],
      "metadata": {
        "colab": {
          "base_uri": "https://localhost:8080/",
          "height": 295
        },
        "id": "6HPiFPcOJx6c",
        "outputId": "3e08fb6e-036f-4f1f-f202-4bbb7e6972a8"
      },
      "execution_count": null,
      "outputs": [
        {
          "output_type": "display_data",
          "data": {
            "text/plain": [
              "<Figure size 432x288 with 1 Axes>"
            ],
            "image/png": "[encoded data removed]"
          },
          "metadata": {
            "needs_background": "light"
          }
        }
      ]
    },
    {
      "cell_type": "code",
      "source": [
        ""
      ],
      "metadata": {
        "id": "w0OG6FPqVBvg"
      },
      "execution_count": null,
      "outputs": []
    }
  ]
}