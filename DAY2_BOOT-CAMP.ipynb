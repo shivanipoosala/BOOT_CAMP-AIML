{
 "cells": [
  {
   "cell_type": "code",
   "execution_count": 2,
   "metadata": {},
   "outputs": [
    {
     "name": "stdout",
     "output_type": "stream",
     "text": [
      "True\n",
      "100\n",
      "True\n",
      "0\n"
     ]
    }
   ],
   "source": [
    "#if statement\n",
    "var=100\n",
    "if var>0:\n",
    "    print('True')\n",
    "    print(var)\n",
    "var1=0\n",
    "if var1>0:\n",
    "    print('True')\n",
    "    print(var1)"
   ]
  },
  {
   "cell_type": "code",
   "execution_count": 3,
   "metadata": {},
   "outputs": [
    {
     "name": "stdout",
     "output_type": "stream",
     "text": [
      "False\n",
      "-1\n"
     ]
    }
   ],
   "source": [
    "#if..else statement\n",
    "var2=-1\n",
    "if var2>0:\n",
    "    print('True')\n",
    "    print(var2)\n",
    "else:\n",
    "    print(\"False\")\n",
    "    print(var2)"
   ]
  },
  {
   "cell_type": "code",
   "execution_count": 5,
   "metadata": {},
   "outputs": [
    {
     "name": "stdout",
     "output_type": "stream",
     "text": [
      "Enter age=19\n",
      "full ticket\n"
     ]
    }
   ],
   "source": [
    "#nested if statements\n",
    "#bus tickets\n",
    "age=int(input(\"Enter age=\"))\n",
    "if age>12 and age<=18:\n",
    "    if age<15:\n",
    "        print(\"Quarter ticket implies\")\n",
    "    elif age==15:\n",
    "         print(\"Quarter ticket +discount\")\n",
    "    else:\n",
    "        print(\"Half ticket\")\n",
    "elif age>=19 and age<=60:\n",
    "    print(\"full ticket\")\n",
    "elif age>60:\n",
    "    print(\"full ticket+discount\")\n",
    "else:\n",
    "    print(\"no ticket\")"
   ]
  },
  {
   "cell_type": "code",
   "execution_count": 7,
   "metadata": {},
   "outputs": [
    {
     "name": "stdout",
     "output_type": "stream",
     "text": [
      "the sum is= 48\n"
     ]
    }
   ],
   "source": [
    "#for loop\n",
    "number=[6,5,3,8,4,2,5,4,11]\n",
    "sum=0\n",
    "for val in number:\n",
    "    sum=sum+val\n",
    "print('the sum is=',sum)"
   ]
  },
  {
   "cell_type": "code",
   "execution_count": 11,
   "metadata": {},
   "outputs": [
    {
     "name": "stdout",
     "output_type": "stream",
     "text": [
      "1\n",
      "2\n",
      "3\n",
      "4\n",
      "5\n",
      "6\n",
      "7\n",
      "8\n",
      "9\n",
      "10\n",
      "\n",
      "\n",
      "1\n",
      "3\n",
      "5\n",
      "7\n",
      "9\n"
     ]
    }
   ],
   "source": [
    "for i in range(1,11):\n",
    "    print(i)\n",
    "print('\\n')\n",
    "for i in range(1,11,2):\n",
    "    print(i)"
   ]
  },
  {
   "cell_type": "code",
   "execution_count": 12,
   "metadata": {},
   "outputs": [
    {
     "name": "stdout",
     "output_type": "stream",
     "text": [
      "[2, 4, 6, 8]\n"
     ]
    }
   ],
   "source": [
    "x=[2,3,4,5,6,7,8]\n",
    "y=[]\n",
    "for a in x:\n",
    "    if a%2==0:\n",
    "        y.append(a)\n",
    "print(y)        "
   ]
  },
  {
   "cell_type": "code",
   "execution_count": 14,
   "metadata": {},
   "outputs": [
    {
     "name": "stdout",
     "output_type": "stream",
     "text": [
      "0\n",
      "1\n",
      "5\n",
      "no items left\n"
     ]
    }
   ],
   "source": [
    "#using statements in for loop\n",
    "digits=[0,1,5]\n",
    "for i in digits:\n",
    "    print(i)\n",
    "else:\n",
    "    print(\"no items left\")"
   ]
  },
  {
   "cell_type": "code",
   "execution_count": 15,
   "metadata": {},
   "outputs": [
    {
     "name": "stdout",
     "output_type": "stream",
     "text": [
      "current letter: p\n",
      "current letter: y\n",
      "current letter: t\n",
      "current letter: h\n",
      "current letter: o\n",
      "current letter: n\n"
     ]
    }
   ],
   "source": [
    "for l in 'python':\n",
    "    print(\"current letter:\",l)"
   ]
  },
  {
   "cell_type": "code",
   "execution_count": 18,
   "metadata": {},
   "outputs": [
    {
     "name": "stdout",
     "output_type": "stream",
     "text": [
      "current fruit: water_apple\n",
      "current fruit: mango\n",
      "current fruit: grapes\n"
     ]
    }
   ],
   "source": [
    "#iterating by sequence indexing\n",
    "fruit=['water_apple','mango','grapes']\n",
    "for index in range(len(fruit)):\n",
    "    print('current fruit:',fruit[index])"
   ]
  },
  {
   "cell_type": "code",
   "execution_count": 20,
   "metadata": {},
   "outputs": [
    {
     "name": "stdout",
     "output_type": "stream",
     "text": [
      "the count is 0\n",
      "the count is 1\n",
      "the count is 2\n",
      "the count is 3\n",
      "the count is 4\n",
      "the count is 5\n",
      "the count is 6\n",
      "the count is 7\n",
      "the count is 8\n",
      "the count is 9\n",
      "the count is 10\n"
     ]
    }
   ],
   "source": [
    "#while\n",
    "count=0\n",
    "while(count<11):\n",
    "    print('the count is',count)\n",
    "    count=count+1"
   ]
  },
  {
   "cell_type": "code",
   "execution_count": 23,
   "metadata": {},
   "outputs": [
    {
     "name": "stdout",
     "output_type": "stream",
     "text": [
      "[6, 6, 9]\n",
      "[4, 4, 4]\n"
     ]
    }
   ],
   "source": [
    "x=[[5,4,6],[3,2,1]]\n",
    "y=[[1,2,3],[1,2,3]]\n",
    "res=[[0,0,0],[0,0,0]]\n",
    "for i in range(len(x)):\n",
    "    for j in range(len(x[0])):\n",
    "        res[i][j]=x[i][j]+y[i][j]\n",
    "for r in res:\n",
    "    print(r)"
   ]
  },
  {
   "cell_type": "code",
   "execution_count": 15,
   "metadata": {},
   "outputs": [
    {
     "name": "stdout",
     "output_type": "stream",
     "text": [
      "enter till which table you want to print4\n",
      "TABLE 1\n",
      "1*1=1\n",
      "1*2=2\n",
      "1*3=3\n",
      "1*4=4\n",
      "1*5=5\n",
      "1*6=6\n",
      "1*7=7\n",
      "1*8=8\n",
      "1*9=9\n",
      "1*10=10\n",
      "--------------\n",
      "TABLE 2\n",
      "2*1=2\n",
      "2*2=4\n",
      "2*3=6\n",
      "2*4=8\n",
      "2*5=10\n",
      "2*6=12\n",
      "2*7=14\n",
      "2*8=16\n",
      "2*9=18\n",
      "2*10=20\n",
      "--------------\n",
      "TABLE 3\n",
      "3*1=3\n",
      "3*2=6\n",
      "3*3=9\n",
      "3*4=12\n",
      "3*5=15\n",
      "3*6=18\n",
      "3*7=21\n",
      "3*8=24\n",
      "3*9=27\n",
      "3*10=30\n",
      "--------------\n",
      "TABLE 4\n",
      "4*1=4\n",
      "4*2=8\n",
      "4*3=12\n",
      "4*4=16\n",
      "4*5=20\n",
      "4*6=24\n",
      "4*7=28\n",
      "4*8=32\n",
      "4*9=36\n",
      "4*10=40\n",
      "--------------\n"
     ]
    }
   ],
   "source": [
    "num=int(input(\"enter till which table you want to print\"))\n",
    "i=1\n",
    "while(i<=num):\n",
    "    print(f\"TABLE {i}\")\n",
    "    j=1\n",
    "    while(j<=10):\n",
    "        print(f\"{i}*{j}={i*j}\")\n",
    "        j=j+1\n",
    "    print(\"--------------\")\n",
    "    i=i+1"
   ]
  },
  {
   "cell_type": "code",
   "execution_count": 26,
   "metadata": {},
   "outputs": [
    {
     "name": "stdout",
     "output_type": "stream",
     "text": [
      "current letter: p\n",
      "current letter: y\n",
      "current letter: t\n"
     ]
    }
   ],
   "source": [
    "#control statements\n",
    "#break\n",
    "for l in 'python':\n",
    "    if l=='h':\n",
    "        break\n",
    "    print('current letter:',l)"
   ]
  },
  {
   "cell_type": "code",
   "execution_count": 20,
   "metadata": {},
   "outputs": [
    {
     "name": "stdout",
     "output_type": "stream",
     "text": [
      "current letter: p\n",
      "current letter: y\n",
      "current letter: t\n",
      "current letter: o\n",
      "current letter: n\n"
     ]
    }
   ],
   "source": [
    "#continue\n",
    "for l in 'python':\n",
    "    if l=='h':\n",
    "        continue\n",
    "    print('current letter:',l)\n",
    "    "
   ]
  },
  {
   "cell_type": "code",
   "execution_count": 21,
   "metadata": {},
   "outputs": [
    {
     "name": "stdout",
     "output_type": "stream",
     "text": [
      "current letter: p\n",
      "current letter: y\n",
      "current letter: t\n",
      "current letter: h\n",
      "current letter: o\n",
      "current letter: n\n"
     ]
    }
   ],
   "source": [
    "#pass\n",
    "for l in 'python':\n",
    "    if l=='h':\n",
    "        pass\n",
    "    print('current letter:',l)\n",
    "    "
   ]
  },
  {
   "cell_type": "code",
   "execution_count": 24,
   "metadata": {},
   "outputs": [
    {
     "name": "stdout",
     "output_type": "stream",
     "text": [
      "Hello,\tShivani\tGood Morning\n"
     ]
    }
   ],
   "source": [
    "#user defined funtions\n",
    "def greet(name):\n",
    "    print(\"Hello,\\t\"+name+\"\\tGood Morning\")\n",
    "greet(\"Shivani\")"
   ]
  },
  {
   "cell_type": "code",
   "execution_count": 26,
   "metadata": {},
   "outputs": [
    {
     "name": "stdout",
     "output_type": "stream",
     "text": [
      "7\n",
      "6\n"
     ]
    }
   ],
   "source": [
    "#keyword\n",
    "def A(a,b=1,c=2):\n",
    "    return a+b+c\n",
    "print(A(a=2,b=3))\n",
    "print(A(c=3,b=2,a=1))"
   ]
  },
  {
   "cell_type": "code",
   "execution_count": 28,
   "metadata": {},
   "outputs": [
    {
     "name": "stdout",
     "output_type": "stream",
     "text": [
      "60\n",
      "60\n"
     ]
    }
   ],
   "source": [
    "#positional\n",
    "def add(a,b,c):\n",
    "    return a+b+c\n",
    "    \n",
    "print(add(10,20,30))\n",
    "print(add(10,b=20,c=30))"
   ]
  },
  {
   "cell_type": "code",
   "execution_count": 29,
   "metadata": {},
   "outputs": [
    {
     "name": "stdout",
     "output_type": "stream",
     "text": [
      "10\n",
      "{'Apples': 10, 'Oranges': 20, 'Grapes': 30}\n"
     ]
    }
   ],
   "source": [
    "#arbitrary keyword\n",
    "def key_arg(**kwargs):\n",
    "    return kwargs\n",
    "my_dict=key_arg(Apples=10,Oranges=20,Grapes=30)\n",
    "print(my_dict['Apples'])\n",
    "print(my_dict)"
   ]
  },
  {
   "cell_type": "code",
   "execution_count": 33,
   "metadata": {},
   "outputs": [
    {
     "name": "stdout",
     "output_type": "stream",
     "text": [
      "(5, 11)\n",
      "16\n"
     ]
    }
   ],
   "source": [
    "#arbitrary positional\n",
    "def add_num(*n):\n",
    "    print(n)\n",
    "    print(sum(n))\n",
    "add_num(5,11)\n"
   ]
  },
  {
   "cell_type": "code",
   "execution_count": 37,
   "metadata": {},
   "outputs": [
    {
     "name": "stdout",
     "output_type": "stream",
     "text": [
      "HI,I AM HIGHER ORDEER FUNCTION\n",
      "hi,i am higher ordeer function\n"
     ]
    }
   ],
   "source": [
    "#higher order functions\n",
    "def shout(text):\n",
    "    return text.upper()\n",
    "def whisper(text):\n",
    "    return text.lower()\n",
    "def explain(fun):\n",
    "    greet=fun(\"hi,i am higher ordeer function\")\n",
    "    print(greet)\n",
    "explain(shout)\n",
    "explain(whisper)"
   ]
  },
  {
   "cell_type": "code",
   "execution_count": 27,
   "metadata": {},
   "outputs": [
    {
     "name": "stdout",
     "output_type": "stream",
     "text": [
      "enter a stringmam\n",
      "palindrome\n"
     ]
    }
   ],
   "source": [
    "str1=input(\"enter a string\")\n",
    "str2=str1[::-1]\n",
    "if(str1==str2):\n",
    "    print('palindrome')\n",
    "else:\n",
    "    print('not')"
   ]
  },
  {
   "cell_type": "code",
   "execution_count": 32,
   "metadata": {},
   "outputs": [
    {
     "name": "stdout",
     "output_type": "stream",
     "text": [
      "enter stringmom\n",
      "yes\n"
     ]
    }
   ],
   "source": [
    "#palindrome\n",
    "x=input('enter string')\n",
    "w=''\n",
    "for i in x:\n",
    "    w=i+w\n",
    "if(x==w):\n",
    "    print('yes')\n",
    "else:\n",
    "    print('no')"
   ]
  },
  {
   "cell_type": "code",
   "execution_count": 33,
   "metadata": {},
   "outputs": [
    {
     "name": "stdout",
     "output_type": "stream",
     "text": [
      "palindrome= 1\n",
      "palindrome= 2\n",
      "palindrome= 3\n",
      "palindrome= 4\n",
      "palindrome= 5\n",
      "palindrome= 6\n",
      "palindrome= 7\n",
      "palindrome= 8\n",
      "palindrome= 9\n",
      "palindrome= 11\n",
      "palindrome= 22\n",
      "palindrome= 33\n",
      "palindrome= 44\n",
      "palindrome= 55\n",
      "palindrome= 66\n",
      "palindrome= 77\n",
      "palindrome= 88\n",
      "palindrome= 99\n"
     ]
    }
   ],
   "source": [
    "for i in range(1,101):\n",
    "    str2=str(i)\n",
    "    if(str2==str2[::-1]):\n",
    "        print(\"palindrome=\",i)"
   ]
  },
  {
   "cell_type": "code",
   "execution_count": 44,
   "metadata": {},
   "outputs": [
    {
     "name": "stdout",
     "output_type": "stream",
     "text": [
      "even= 2\n",
      "even= 4\n",
      "even= 6\n"
     ]
    }
   ],
   "source": [
    "l=[1,2,3,4,5,6,7]\n",
    "for i in range(len(l)):\n",
    "    if(l[i]%2==0):\n",
    "        print(\"even=\",l[i])"
   ]
  },
  {
   "cell_type": "code",
   "execution_count": null,
   "metadata": {},
   "outputs": [],
   "source": [
    "Write a python program that generates desired output i.e, from countries list select out \n",
    "the country names that contain string “and”\n",
    "\n",
    "\n",
    "Countries_list=[“Finland”,”Germany”,”Sweden”,”Ireland”,”Turkey”]\n",
    "\n",
    "Output: [“Finland”,”Ireland”]"
   ]
  },
  {
   "cell_type": "code",
   "execution_count": null,
   "metadata": {},
   "outputs": [],
   "source": [
    "countries_list=['Finland','Germany','Sweden','Ireland','Turkey']\n",
    "l=[]\n",
    "for i in range(str(l[])):\n",
    "    if l='land'\n"
   ]
  },
  {
   "cell_type": "markdown",
   "metadata": {},
   "source": [
    "Write a python program that print respective grades of student:\n",
    "Grade – Outstanding  for marks>=90\n",
    "\n",
    "Grade A+ for marks >=80, <90\n",
    "\n",
    "Grade A for marks >=70, <80\n",
    "\n",
    "Grade B for marks >=60 and <70\n",
    "\n",
    "<60 Grade C"
   ]
  },
  {
   "cell_type": "code",
   "execution_count": 53,
   "metadata": {},
   "outputs": [
    {
     "name": "stdout",
     "output_type": "stream",
     "text": [
      "Enter marks=89\n",
      "A+\n"
     ]
    }
   ],
   "source": [
    "marks=int(input(\"Enter marks=\"))\n",
    "if marks>=90:\n",
    "    print('outstanding')\n",
    "elif (marks>=80 and marks<90): \n",
    "        print('A+')\n",
    "elif (marks>=70 and marks<80): \n",
    "        print('A')\n",
    "elif (marks>=60 and marks<70): \n",
    "        print('B')\n",
    "else:\n",
    "    print('C')"
   ]
  },
  {
   "cell_type": "code",
   "execution_count": 57,
   "metadata": {},
   "outputs": [
    {
     "name": "stdout",
     "output_type": "stream",
     "text": [
      "dItAgAaPkA"
     ]
    }
   ],
   "source": [
    "statelist = [\"Delhi\" ,\"Telanaga\",\"Goa\",\"AP\",\"Kerala\" ]\n",
    "print(statelist[0][0].lower(),end=\"\")\n",
    "print(statelist[0][4].upper(),end=\"\")\n",
    "print(statelist[1][0].lower(),end=\"\")\n",
    "print(statelist[1][7].upper(),end=\"\")\n",
    "print(statelist[2][0].lower(),end=\"\")\n",
    "print(statelist[2][2].upper(),end=\"\")\n",
    "print(statelist[3][0].lower(),end=\"\")\n",
    "print(statelist[3][1],end=\"\")\n",
    "print(statelist[4][0].lower(),end=\"\")\n",
    "print(statelist[4][5].upper(),end=\"\")\n",
    "    \n",
    "    "
   ]
  },
  {
   "cell_type": "code",
   "execution_count": 66,
   "metadata": {
    "scrolled": true
   },
   "outputs": [
    {
     "name": "stdout",
     "output_type": "stream",
     "text": [
      "Hello,\tshiva\tgood morning\n"
     ]
    }
   ],
   "source": [
    "#function\n",
    "#user defined functions\n",
    "def greet(name):\n",
    "    '''this function greets a person'''\n",
    "    print('Hello,\\t'+name+ \"\\tgood morning\")\n",
    "greet('shiva')"
   ]
  },
  {
   "cell_type": "code",
   "execution_count": 69,
   "metadata": {},
   "outputs": [
    {
     "name": "stdout",
     "output_type": "stream",
     "text": [
      "6\n",
      "12\n",
      "6\n"
     ]
    }
   ],
   "source": [
    "#default\n",
    "def A(a,b=1,c=2):\n",
    "    return a+b+c\n",
    "print(A(3))\n",
    "print(A(4,4,4))\n",
    "print(A(2,2))"
   ]
  },
  {
   "cell_type": "code",
   "execution_count": 70,
   "metadata": {},
   "outputs": [
    {
     "name": "stdout",
     "output_type": "stream",
     "text": [
      "60\n"
     ]
    }
   ],
   "source": [
    "def add(a,b,c):\n",
    "    return a+b+c\n",
    "print(add(10,20,30))\n"
   ]
  },
  {
   "cell_type": "code",
   "execution_count": 76,
   "metadata": {},
   "outputs": [
    {
     "name": "stdout",
     "output_type": "stream",
     "text": [
      "6\n",
      "6\n",
      "7\n",
      "27\n"
     ]
    }
   ],
   "source": [
    "def incr(x):\n",
    "    x=x+1\n",
    "    return x\n",
    "print(incr(5))\n",
    "print((lambda x:x+1)(5))\n",
    "print((lambda x,y:x+y)(3,4))\n",
    "print((lambda x,y:x**y)(3,3))"
   ]
  },
  {
   "cell_type": "code",
   "execution_count": 38,
   "metadata": {},
   "outputs": [
    {
     "name": "stdout",
     "output_type": "stream",
     "text": [
      "['Apple', 'Banana', 'Grapes']\n"
     ]
    }
   ],
   "source": [
    "li=['apple','banana','grapes']\n",
    "r=list(map(lambda x:x.capitalize(),li))\n",
    "print(r)"
   ]
  },
  {
   "cell_type": "code",
   "execution_count": 87,
   "metadata": {},
   "outputs": [
    {
     "name": "stdout",
     "output_type": "stream",
     "text": [
      "3.141592653589793\n",
      "2.718281828459045\n",
      "2.0\n",
      "120\n",
      "4.0\n",
      "1\n",
      "-3.380515006246586\n",
      "0.6931471805599453\n"
     ]
    }
   ],
   "source": [
    "#math module\n",
    "import math as m\n",
    "print(m.pi)\n",
    "print(m.e)\n",
    "print(m.sqrt(4))\n",
    "print(m.factorial(5))\n",
    "print(m.pow(2,2))\n",
    "print(m.floor(1.4))\n",
    "print(m.tan(5))\n",
    "print(m.log(2))"
   ]
  },
  {
   "cell_type": "code",
   "execution_count": 88,
   "metadata": {},
   "outputs": [
    {
     "name": "stdout",
     "output_type": "stream",
     "text": [
      "['C:\\\\Users\\\\Shivani', 'C:\\\\Users\\\\Shivani\\\\anaconda3\\\\python38.zip', 'C:\\\\Users\\\\Shivani\\\\anaconda3\\\\DLLs', 'C:\\\\Users\\\\Shivani\\\\anaconda3\\\\lib', 'C:\\\\Users\\\\Shivani\\\\anaconda3', '', 'C:\\\\Users\\\\Shivani\\\\anaconda3\\\\lib\\\\site-packages', 'C:\\\\Users\\\\Shivani\\\\anaconda3\\\\lib\\\\site-packages\\\\win32', 'C:\\\\Users\\\\Shivani\\\\anaconda3\\\\lib\\\\site-packages\\\\win32\\\\lib', 'C:\\\\Users\\\\Shivani\\\\anaconda3\\\\lib\\\\site-packages\\\\Pythonwin', 'C:\\\\Users\\\\Shivani\\\\anaconda3\\\\lib\\\\site-packages\\\\IPython\\\\extensions', 'C:\\\\Users\\\\Shivani\\\\.ipython']\n",
      "3.8.5 (default, Sep  4 2020, 00:03:40) [MSC v.1916 32 bit (Intel)]\n",
      "2147483647\n"
     ]
    }
   ],
   "source": [
    "import sys\n",
    "print(sys.path)\n",
    "print(sys.version)\n",
    "print(sys.maxsize)"
   ]
  },
  {
   "cell_type": "code",
   "execution_count": 90,
   "metadata": {},
   "outputs": [
    {
     "name": "stdout",
     "output_type": "stream",
     "text": [
      "3\n",
      "3\n",
      "1\n"
     ]
    }
   ],
   "source": [
    "import statistics as s\n",
    "print(s.mean([2,3,4]))\n",
    "print(s.median([2,3,4]))\n",
    "print(s.mode([1,2,3,1]))"
   ]
  },
  {
   "cell_type": "code",
   "execution_count": 92,
   "metadata": {},
   "outputs": [
    {
     "name": "stdout",
     "output_type": "stream",
     "text": [
      "21\n",
      "24\n",
      "0.617335932920297\n"
     ]
    }
   ],
   "source": [
    "#random module\n",
    "import random\n",
    "print(random.randrange(1,50))\n",
    "print(random.randint(1,100))\n",
    "print(random.random())"
   ]
  },
  {
   "cell_type": "markdown",
   "metadata": {},
   "source": [
    "Write a python program that remove items that are multiples of 5 from list:\n",
    "li=[1,2,5,6,7,10,15,25,65,78,90]\n",
    "\n",
    "o/p: [1,2,6,7,78]"
   ]
  },
  {
   "cell_type": "code",
   "execution_count": 11,
   "metadata": {},
   "outputs": [
    {
     "name": "stdout",
     "output_type": "stream",
     "text": [
      "[1, 2, 6, 7, 78]\n"
     ]
    }
   ],
   "source": [
    "li=[1,2,5,6,7,10,15,25,65,78,90]\n",
    "l2=[]\n",
    "for i in li:\n",
    "    if i%5!=0:\n",
    "        l2.append(i)\n",
    "print(l2)"
   ]
  },
  {
   "cell_type": "code",
   "execution_count": 4,
   "metadata": {},
   "outputs": [
    {
     "name": "stdout",
     "output_type": "stream",
     "text": [
      "[1, 2, 6, 7, 78]\n"
     ]
    }
   ],
   "source": [
    "li=[1,2,5,6,7,10,15,25,65,78,90]\n",
    "res=list(filter(lambda x:x%5!=0,li))\n",
    "print(res)"
   ]
  },
  {
   "cell_type": "code",
   "execution_count": 29,
   "metadata": {},
   "outputs": [
    {
     "name": "stdout",
     "output_type": "stream",
     "text": [
      "[1, 2, 6, 7, 78]\n"
     ]
    }
   ],
   "source": [
    "li=[1,2,5,6,7,10,15,25,65,78,90]\n",
    "for i in li[:]:\n",
    "    if i%5==0:\n",
    "        li.remove(i)\n",
    "print(li)"
   ]
  },
  {
   "cell_type": "code",
   "execution_count": 18,
   "metadata": {},
   "outputs": [
    {
     "name": "stdout",
     "output_type": "stream",
     "text": [
      "['apple', 'amla', 'avacado', 'pineapple']\n"
     ]
    }
   ],
   "source": [
    "fruit=['apple','amla','banana','avacado','orange','pineapple']\n",
    "for i in fruit:\n",
    "    if i[0]!='a':\n",
    "        fruit.remove(i)\n",
    "print(fruit)"
   ]
  },
  {
   "cell_type": "markdown",
   "metadata": {},
   "source": [
    "Write a python program that generates desired output from fruits list. Filter out the fruits names that don’t start with ‘A’\n",
    "\n",
    "\n",
    "Fruit=[“Apple”,”Banana”,”Pear”,”Avacado”,”Orange”,”Amla”]\n",
    "\n",
    "Output: [“Apple”,”Avacado”,”Amla”]"
   ]
  },
  {
   "cell_type": "code",
   "execution_count": 19,
   "metadata": {},
   "outputs": [
    {
     "name": "stdout",
     "output_type": "stream",
     "text": [
      "['Apple', 'Avacado', 'Amla']\n"
     ]
    }
   ],
   "source": [
    "fruit=[\"Apple\",\"Banana\",\"Pear\",\"Avacado\",\"Orange\",\"Amla\"]\n",
    "res=list(filter(lambda x:x.startswith('A'),fruit))\n",
    "print(res)"
   ]
  },
  {
   "cell_type": "markdown",
   "metadata": {},
   "source": [
    "Mssg=”Welcome to gradstellar bootcamp”\n",
    "X=”number of occurrences of ‘o’ in mssg”\n",
    "\n",
    "Y=”number of occurrences of ‘e’ in mssg”\n",
    "\n",
    "Compute (X+Y)2"
   ]
  },
  {
   "cell_type": "code",
   "execution_count": 20,
   "metadata": {},
   "outputs": [
    {
     "name": "stdout",
     "output_type": "stream",
     "text": [
      "4 3\n",
      "49\n"
     ]
    }
   ],
   "source": [
    "mssg=\"Welcome to gradstellar bootcamp\"\n",
    "x=mssg.count('o')\n",
    "y=mssg.count('e')\n",
    "print(x,y)\n",
    "print((x+y)**2)"
   ]
  }
 ],
 "metadata": {
  "kernelspec": {
   "display_name": "Python 3",
   "language": "python",
   "name": "python3"
  },
  "language_info": {
   "codemirror_mode": {
    "name": "ipython",
    "version": 3
   },
   "file_extension": ".py",
   "mimetype": "text/x-python",
   "name": "python",
   "nbconvert_exporter": "python",
   "pygments_lexer": "ipython3",
   "version": "3.8.5"
  }
 },
 "nbformat": 4,
 "nbformat_minor": 4
}
