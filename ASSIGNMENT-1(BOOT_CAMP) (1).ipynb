{
 "cells": [
  {
   "cell_type": "code",
   "execution_count": 272,
   "metadata": {},
   "outputs": [],
   "source": [
    "#Q1. Implement the methods of String with examples."
   ]
  },
  {
   "cell_type": "code",
   "execution_count": 273,
   "metadata": {},
   "outputs": [
    {
     "name": "stdout",
     "output_type": "stream",
     "text": [
      "  Shivani Poosala  \n",
      "  SHIVANI POOSALA  \n",
      "  shivani poosala  \n",
      "  Shivani Poosala  \n",
      "  shivani poosala  \n",
      "  sHIVANI pOOSALA  \n",
      "Shivani Poosala\n",
      "  Shivani Poosala\n",
      "Shivani Poosala  \n",
      "['Shivani', 'Poosala']\n"
     ]
    }
   ],
   "source": [
    "str=\"  Shivani Poosala  \"\n",
    "print(str)\n",
    "print(str.upper())\n",
    "print(str.lower())\n",
    "print(str.title())\n",
    "print(str.capitalize())\n",
    "print(str.swapcase())\n",
    "print(str.strip())\n",
    "print(str.rstrip())#right strip\n",
    "print(str.lstrip())#left strip\n",
    "print(str.rsplit())"
   ]
  },
  {
   "cell_type": "code",
   "execution_count": 274,
   "metadata": {},
   "outputs": [],
   "source": [
    "#Q2. Implement the methods of List with examples"
   ]
  },
  {
   "cell_type": "code",
   "execution_count": 275,
   "metadata": {},
   "outputs": [
    {
     "name": "stdout",
     "output_type": "stream",
     "text": [
      "[1, 2, 3, 4, 5, 6, 7, 8, 9, 10]\n",
      "[1, 2, 3, 4, 5, 6, 7, 8, 9, 10, 11]\n"
     ]
    }
   ],
   "source": [
    "list=[1,2,3,4,5,6,7,8,9,10]\n",
    "print(list)\n",
    "#Append the list\n",
    "list.append(11)\n",
    "print(list)"
   ]
  },
  {
   "cell_type": "code",
   "execution_count": 276,
   "metadata": {},
   "outputs": [
    {
     "name": "stdout",
     "output_type": "stream",
     "text": [
      "[1, 2, 3, 4, 5, 6, 7, 8, 9, 10, 11, 12, 13, 14]\n"
     ]
    }
   ],
   "source": [
    "#expend the list\n",
    "list.extend([12,13,14])\n",
    "print(list)"
   ]
  },
  {
   "cell_type": "code",
   "execution_count": 277,
   "metadata": {},
   "outputs": [
    {
     "name": "stdout",
     "output_type": "stream",
     "text": [
      "[0, 1, 2, 3, 4, 5, 6, 7, 8, 9, 10, 11, 12, 13, 14]\n"
     ]
    }
   ],
   "source": [
    "#insert into the list\n",
    "list.insert(0,0)\n",
    "print(list)"
   ]
  },
  {
   "cell_type": "code",
   "execution_count": 278,
   "metadata": {},
   "outputs": [
    {
     "name": "stdout",
     "output_type": "stream",
     "text": [
      "105\n"
     ]
    }
   ],
   "source": [
    "#sum of the elements in the list\n",
    "print(sum(list))"
   ]
  },
  {
   "cell_type": "code",
   "execution_count": 279,
   "metadata": {},
   "outputs": [
    {
     "data": {
      "text/plain": [
       "1"
      ]
     },
     "execution_count": 279,
     "metadata": {},
     "output_type": "execute_result"
    }
   ],
   "source": [
    "#count the occurancy of an element\n",
    "list.count(1)"
   ]
  },
  {
   "cell_type": "code",
   "execution_count": 280,
   "metadata": {},
   "outputs": [
    {
     "name": "stdout",
     "output_type": "stream",
     "text": [
      "15\n"
     ]
    }
   ],
   "source": [
    "#no.of elements in the list\n",
    "print(len(list))"
   ]
  },
  {
   "cell_type": "code",
   "execution_count": 281,
   "metadata": {},
   "outputs": [
    {
     "name": "stdout",
     "output_type": "stream",
     "text": [
      "[0, 1, 2, 3, 4, 5, 6, 7, 8, 9, 10, 11, 12, 13]\n"
     ]
    }
   ],
   "source": [
    "#remove the element \n",
    "list.remove(14)\n",
    "print(list)"
   ]
  },
  {
   "cell_type": "code",
   "execution_count": 282,
   "metadata": {},
   "outputs": [
    {
     "name": "stdout",
     "output_type": "stream",
     "text": [
      "[1, 2, 3, 4, 5, 6, 7, 8, 9, 10, 11, 12, 13]\n"
     ]
    }
   ],
   "source": [
    "#pop the element at particular index\n",
    "list.pop(0)\n",
    "print(list)"
   ]
  },
  {
   "cell_type": "code",
   "execution_count": 283,
   "metadata": {},
   "outputs": [
    {
     "name": "stdout",
     "output_type": "stream",
     "text": [
      "[1, 2, 3, 5, 6, 7, 8, 9, 10, 11, 12, 13]\n"
     ]
    }
   ],
   "source": [
    "#delete the element at particular index\n",
    "del list[3]\n",
    "print(list)"
   ]
  },
  {
   "cell_type": "code",
   "execution_count": 284,
   "metadata": {},
   "outputs": [
    {
     "name": "stdout",
     "output_type": "stream",
     "text": [
      "[13, 12, 11, 10, 9, 8, 7, 6, 5, 3, 2, 1]\n"
     ]
    }
   ],
   "source": [
    "#Reverse the list\n",
    "list.reverse()\n",
    "print(list)"
   ]
  },
  {
   "cell_type": "code",
   "execution_count": 285,
   "metadata": {},
   "outputs": [
    {
     "name": "stdout",
     "output_type": "stream",
     "text": [
      "[1, 2, 3, 5, 6, 7, 8, 9, 10, 11, 12, 13]\n"
     ]
    }
   ],
   "source": [
    "#sort the list\n",
    "list.sort()\n",
    "print(list)"
   ]
  },
  {
   "cell_type": "code",
   "execution_count": 286,
   "metadata": {},
   "outputs": [],
   "source": [
    "#Q3. Implement the methods of Tuple with examples."
   ]
  },
  {
   "cell_type": "code",
   "execution_count": 287,
   "metadata": {},
   "outputs": [
    {
     "name": "stdout",
     "output_type": "stream",
     "text": [
      "1\n",
      "4\n",
      "10\n",
      "1\n",
      "10\n",
      "55\n"
     ]
    }
   ],
   "source": [
    "tuple=(1,2,3,4,5,6,7,8,9,10)\n",
    "print(tuple.count(1))\n",
    "print(tuple.index(5))\n",
    "print(max(tuple))\n",
    "print(min(tuple))\n",
    "print(len(tuple))\n",
    "print(sum(tuple))\n"
   ]
  },
  {
   "cell_type": "code",
   "execution_count": 288,
   "metadata": {},
   "outputs": [],
   "source": [
    "#Q4. Implement the methods of Dictionary with examples."
   ]
  },
  {
   "cell_type": "code",
   "execution_count": 289,
   "metadata": {
    "scrolled": true
   },
   "outputs": [
    {
     "name": "stdout",
     "output_type": "stream",
     "text": [
      "shivani\n",
      "dict_keys(['name', 'branch', 'year', 'address', 'college'])\n",
      "dict_values(['shivani', 'CSE(AIML)', 3, 'wgl', 'SR'])\n",
      "shivani\n",
      "{'name': 'shivani', 'branch': 'CSE(AIML)', 'year': 3, 'address': 'wgl', 'college': 'SR', 'lastname': 'poosala'}\n",
      "{'name': 'shivani', 'branch': 'CSE(AIML)', 'year': 3, 'address': 'wgl', 'college': 'SRU', 'lastname': 'poosala'}\n",
      "{'name': 'shivani', 'branch': 'CSE(AIML)', 'year': 3, 'college': 'SRU', 'lastname': 'poosala'}\n",
      "{'name': 'shivani', 'branch': 'CSE(AIML)', 'year': 3, 'college': 'SRU'}\n",
      "{}\n"
     ]
    }
   ],
   "source": [
    "dict={'name':'shivani','branch':'CSE(AIML)','year':3,'address':'wgl','college':'SR'}\n",
    "print(dict['name'])\n",
    "print(dict.keys())\n",
    "print(dict.values())\n",
    "print(dict.get('name'))\n",
    "dict['lastname']='poosala' #add iteam\n",
    "print(dict)\n",
    "dict['college']='SRU' #update value\n",
    "print(dict)\n",
    "dict.pop('address') #remove particular item\n",
    "print(dict)\n",
    "dict.popitem() #remove an item from last\n",
    "print(dict)\n",
    "dict.clear() # clear enter dict\n",
    "print(dict)\n"
   ]
  },
  {
   "cell_type": "code",
   "execution_count": 290,
   "metadata": {},
   "outputs": [],
   "source": [
    "#Q5. Implement the methods of Set with examples."
   ]
  },
  {
   "cell_type": "code",
   "execution_count": 291,
   "metadata": {},
   "outputs": [
    {
     "name": "stdout",
     "output_type": "stream",
     "text": [
      "{1, 2, 3, 4, 5, 6, 7, 8, 9, 10, 11}\n",
      "{1, 2, 3, 4, 5, 6, 7, 8, 9, 10, 11, 12, 13, 14}\n",
      "{1, 2, 3, 4, 5, 6, 7, 8, 9, 10, 11, 12, 13}\n",
      "{1, 2, 3, 5, 6, 7, 8, 9, 10, 11, 12, 13}\n",
      "{1, 2, 3, 5, 6, 7, 8, 9, 10, 11, 12, 13}\n",
      "{1, 2, 3, 5, 6, 7, 8, 9, 10, 11, 12, 13}\n",
      "{1, 2, 3, 5, 6, 7, 8, 9, 10, 11, 12, 13}\n",
      "{1, 2, 3, 4, 5, 6, 7, 8, 9, 10, 11, 12, 13}\n",
      "{1, 2, 3, 5, 6, 7, 8, 9, 10}\n",
      "{11, 12, 13}\n",
      "{4}\n",
      "{2, 3, 5, 6, 7, 8, 9, 10, 11, 12, 13}\n"
     ]
    }
   ],
   "source": [
    "set1={1,2,3,4,5,6,7,8,9,10}\n",
    "set2={10,9,7,8,6,5,1,3,2,4}\n",
    "set1.add(11)\n",
    "print(set1)\n",
    "set1.update([12,13,14])\n",
    "print(set1)\n",
    "set1.discard(14)\n",
    "print(set1)\n",
    "set1.remove(4)\n",
    "print(set1)\n",
    "set1.copy()\n",
    "print(set1)\n",
    "set1.difference()\n",
    "print(set1)\n",
    "print(set1)\n",
    "#union\n",
    "print(set1.union(set2))\n",
    "#intersection\n",
    "print(set1.intersection(set2))\n",
    "#difference\n",
    "print(set1-set2)\n",
    "print(set2-set1)\n",
    "set1.pop()\n",
    "print(set1)"
   ]
  },
  {
   "cell_type": "code",
   "execution_count": 292,
   "metadata": {},
   "outputs": [],
   "source": [
    "#Q6. Write a python program to convert Decimal to Binary, Octal and Hexadecimal with \n",
    "#direct method."
   ]
  },
  {
   "cell_type": "code",
   "execution_count": 293,
   "metadata": {},
   "outputs": [
    {
     "name": "stdout",
     "output_type": "stream",
     "text": [
      "0b1010\n",
      "0o12\n",
      "0xa\n"
     ]
    }
   ],
   "source": [
    "print(bin(10))\n",
    "print(oct(10))\n",
    "print(hex(10))"
   ]
  },
  {
   "cell_type": "code",
   "execution_count": 294,
   "metadata": {},
   "outputs": [],
   "source": [
    "#Q7. Implement Arithmetic operators with examples."
   ]
  },
  {
   "cell_type": "code",
   "execution_count": 295,
   "metadata": {},
   "outputs": [
    {
     "name": "stdout",
     "output_type": "stream",
     "text": [
      "18\n",
      "4\n",
      "77\n",
      "1.5714285714285714\n",
      "4\n",
      "19487171\n",
      "1\n"
     ]
    }
   ],
   "source": [
    "A=11\n",
    "B=7\n",
    "print(A+B)\n",
    "print(A-B)\n",
    "print(A*B)\n",
    "print(A/B)\n",
    "print(A%B)\n",
    "print(A**B)\n",
    "print(A//B)"
   ]
  },
  {
   "cell_type": "code",
   "execution_count": 296,
   "metadata": {},
   "outputs": [],
   "source": [
    "#Q8. Implement Assignment operators with examples."
   ]
  },
  {
   "cell_type": "code",
   "execution_count": 297,
   "metadata": {},
   "outputs": [
    {
     "name": "stdout",
     "output_type": "stream",
     "text": [
      "20\n",
      "35\n",
      "20\n",
      "300\n",
      "20.0\n",
      "2\n",
      "32768\n",
      "2184\n"
     ]
    }
   ],
   "source": [
    "a=15\n",
    "b=5\n",
    "c=a+b\n",
    "print(c)\n",
    "c+=a\n",
    "print(c)\n",
    "c-=a\n",
    "print(c)\n",
    "c*=a\n",
    "print(c)\n",
    "c/=a\n",
    "print(c)\n",
    "c=2\n",
    "c%=a\n",
    "print(c)\n",
    "c**=a\n",
    "print(c)\n",
    "c//=a\n",
    "print(c)"
   ]
  },
  {
   "cell_type": "code",
   "execution_count": 298,
   "metadata": {},
   "outputs": [],
   "source": [
    "#Q9. Implement Comparison operators with examples."
   ]
  },
  {
   "cell_type": "code",
   "execution_count": 299,
   "metadata": {},
   "outputs": [
    {
     "name": "stdout",
     "output_type": "stream",
     "text": [
      "False\n",
      "True\n",
      "False\n",
      "True\n",
      "False\n",
      "True\n"
     ]
    }
   ],
   "source": [
    "a=10\n",
    "b=25\n",
    "print(a==b)\n",
    "print(a!=b)\n",
    "print(a>b)\n",
    "print(a<b)\n",
    "print(a>=b)\n",
    "print(a<=b)"
   ]
  },
  {
   "cell_type": "code",
   "execution_count": 300,
   "metadata": {},
   "outputs": [],
   "source": [
    "#Q10. Implement Logical operators with examples"
   ]
  },
  {
   "cell_type": "code",
   "execution_count": 301,
   "metadata": {},
   "outputs": [
    {
     "name": "stdout",
     "output_type": "stream",
     "text": [
      "flase\n",
      "true\n",
      "False\n",
      "False\n"
     ]
    }
   ],
   "source": [
    "a='true'\n",
    "b='flase'\n",
    "print(a and b)\n",
    "print(a or b)\n",
    "print(not a)\n",
    "print(not b)"
   ]
  },
  {
   "cell_type": "code",
   "execution_count": 302,
   "metadata": {},
   "outputs": [],
   "source": [
    "#Q11. Implement Bitwise operators with examples"
   ]
  },
  {
   "cell_type": "code",
   "execution_count": 303,
   "metadata": {},
   "outputs": [
    {
     "name": "stdout",
     "output_type": "stream",
     "text": [
      "13\n",
      "2\n",
      "15\n",
      "-16\n",
      "3\n",
      "60\n"
     ]
    }
   ],
   "source": [
    "a=15\n",
    "b=13\n",
    "print(a&b)\n",
    "print(a^b)\n",
    "print(a|b)\n",
    "print(~a)\n",
    "print(a>>2)\n",
    "print(a<<2)"
   ]
  },
  {
   "cell_type": "code",
   "execution_count": 304,
   "metadata": {},
   "outputs": [],
   "source": [
    "#Q12. Implement Membership operators with examples."
   ]
  },
  {
   "cell_type": "code",
   "execution_count": 305,
   "metadata": {},
   "outputs": [
    {
     "name": "stdout",
     "output_type": "stream",
     "text": [
      "True\n",
      "True\n",
      "False\n",
      "False\n"
     ]
    }
   ],
   "source": [
    "a=[1,2,3,4]\n",
    "b={'hi',1,4,5,'b'}\n",
    "print(1 in a)\n",
    "print('hi' in b)\n",
    "print(5 in a)\n",
    "print('b' not in b)"
   ]
  },
  {
   "cell_type": "code",
   "execution_count": 306,
   "metadata": {},
   "outputs": [],
   "source": [
    "#Q13. Implement Identity operators with examples"
   ]
  },
  {
   "cell_type": "code",
   "execution_count": 307,
   "metadata": {},
   "outputs": [
    {
     "name": "stdout",
     "output_type": "stream",
     "text": [
      "False\n",
      "True\n",
      "True\n",
      "False\n"
     ]
    }
   ],
   "source": [
    "a=45\n",
    "b=32\n",
    "x='hi'\n",
    "y='hi'\n",
    "print(a is b)\n",
    "print(a is not b)\n",
    "print(x is y)\n",
    "print(x is not y)"
   ]
  },
  {
   "cell_type": "code",
   "execution_count": 308,
   "metadata": {},
   "outputs": [],
   "source": [
    "#Q14. Demonstrate Negative indexing for List and apply slicing"
   ]
  },
  {
   "cell_type": "code",
   "execution_count": 309,
   "metadata": {},
   "outputs": [
    {
     "name": "stdout",
     "output_type": "stream",
     "text": [
      "16\n",
      "0\n",
      "[12, 3.0, 4, 2.5, 11, 0, 2, 6.4]\n",
      "[12, 3.0, 4, 2.5, 11, 0, 2, 6.4, 16]\n",
      "[16, 6.4, 2, 0, 11, 2.5, 4, 3.0, 12]\n",
      "[12, 3.0, 4, 2.5, 11, 0, 2, 6.4, 16]\n",
      "[12, 0]\n"
     ]
    }
   ],
   "source": [
    "list=[12,3.0,4,2.5,11,0,2,6.4,16]\n",
    "print(list[-1])\n",
    "print(list[-4])\n",
    "print(list[-9:-1])\n",
    "print(list[-9::])\n",
    "print(list[::-1])\n",
    "print(list[::])\n",
    "print(list[-9::5])"
   ]
  },
  {
   "cell_type": "code",
   "execution_count": 310,
   "metadata": {},
   "outputs": [],
   "source": [
    "#Q15. Predict the output for the given code snippet and justify the result."
   ]
  },
  {
   "cell_type": "code",
   "execution_count": 311,
   "metadata": {},
   "outputs": [
    {
     "name": "stdout",
     "output_type": "stream",
     "text": [
      "taawkcbe  tgestrcoeeA\n",
      "-------------------------\n",
      "ot emoc\n"
     ]
    }
   ],
   "source": [
    "print('A series of characters designated as one object known as a string'[::-1][4::3])\n",
    "#in above statement [::-1] reverse the whole string and [4::3] reads the string from index 4 and indexjump with value 3\n",
    "print(\"-------------------------\")\n",
    "print('Welcome to python training program'[3:10][::-1])\n",
    "#[3:10] it starts from 3 rd index and stops at 10 th index and the it will reverse the string"
   ]
  },
  {
   "cell_type": "code",
   "execution_count": 312,
   "metadata": {},
   "outputs": [],
   "source": [
    "#Q16. Write a python code to get desired output\n",
    "#Input string:p_phrase=\"was it a car or a cat I saw\"\n",
    "#Output string: WAS I TAC A RO RAC A TI SAW"
   ]
  },
  {
   "cell_type": "code",
   "execution_count": 313,
   "metadata": {},
   "outputs": [
    {
     "name": "stdout",
     "output_type": "stream",
     "text": [
      "WAS I TAC A RO RAC A TI SAW\n"
     ]
    }
   ],
   "source": [
    "p_phrase=\"was it a car or a cat I saw\"\n",
    "str=p_phrase.upper()\n",
    "print(str[::-1])"
   ]
  },
  {
   "cell_type": "code",
   "execution_count": 314,
   "metadata": {},
   "outputs": [],
   "source": [
    "#Q17. You are required to generate a word similar to ZOO, X and Y that denote \n",
    "#the number of Zs and Os respectively. The generated word similar to ZOO where #Y= 2 * X. \n",
    "#Input X= 2 Output ZZOOOO \n",
    "#Input X= 5 Output ZZZZZOOOOOOOOOO"
   ]
  },
  {
   "cell_type": "code",
   "execution_count": 315,
   "metadata": {},
   "outputs": [
    {
     "name": "stdout",
     "output_type": "stream",
     "text": [
      "Enter a value2\n",
      "x= 2\n",
      "y= 4\n",
      "ZZOOOO\n"
     ]
    }
   ],
   "source": [
    "x=int(input(\"Enter a value\"))\n",
    "y=2*x\n",
    "print('x=',x)\n",
    "print('y=',y)\n",
    "print('Z'*x,'O'*y,sep='')"
   ]
  }
 ],
 "metadata": {
  "kernelspec": {
   "display_name": "Python 3",
   "language": "python",
   "name": "python3"
  },
  "language_info": {
   "codemirror_mode": {
    "name": "ipython",
    "version": 3
   },
   "file_extension": ".py",
   "mimetype": "text/x-python",
   "name": "python",
   "nbconvert_exporter": "python",
   "pygments_lexer": "ipython3",
   "version": "3.8.5"
  }
 },
 "nbformat": 4,
 "nbformat_minor": 4
}
